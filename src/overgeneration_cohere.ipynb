{
 "cells": [
  {
   "cell_type": "code",
   "execution_count": 1,
   "metadata": {},
   "outputs": [],
   "source": [
    "import getpass\n",
    "import os\n",
    "import cohere\n",
    "from langchain_cohere import ChatCohere\n",
    "\n",
    "os.environ[\"COHERE_API_KEY\"] = getpass.getpass(\"Enter your Cohere API Key: \")\n",
    "\n",
    "model = ChatCohere(model=\"command-r-plus-08-2024\")"
   ]
  },
  {
   "cell_type": "code",
   "execution_count": 2,
   "metadata": {},
   "outputs": [],
   "source": [
    "from langchain_core.output_parsers import StrOutputParser\n",
    "from prompt import topics, javanese_overgeneration_prompt_cohere, sundanese_overgeneration_prompt_cohere\n",
    "\n",
    "def create_chain(prompt_template, model):\n",
    "    return prompt_template | model | StrOutputParser()\n",
    "\n",
    "chain_sundanese = create_chain(sundanese_overgeneration_prompt_cohere, model)\n",
    "chain_javanese = create_chain(javanese_overgeneration_prompt_cohere, model)"
   ]
  },
  {
   "cell_type": "code",
   "execution_count": 3,
   "metadata": {},
   "outputs": [
    {
     "data": {
      "text/plain": [
       "FewShotPromptTemplate(input_variables=['topic'], example_selector=<prompt.CustomExampleSelector object at 0x107375550>, example_prompt=PromptTemplate(input_variables=['correct_ending', 'story_premise', 'wrong_ending'], template='Story Premise: {story_premise}\\nCorrect Ending: {correct_ending}\\nIncorrect Ending: {wrong_ending}'), suffix='Please generate three different examples, strictly following the format in the examples, do not add bullets or any additional response.', prefix='Your task is to write three different examples of story premises consisting of four sentences, wrong ending, and correct ending in Javanese. Include Javanese cultural values in the story with the topic \"{topic}\". Here are some examples of the story format:')\n",
       "| ChatCohere(client=<cohere.client.Client object at 0x121b9de50>, async_client=<cohere.client.AsyncClient object at 0x126ffba30>, model='command-r-plus-08-2024', cohere_api_key=SecretStr('**********'))\n",
       "| StrOutputParser()"
      ]
     },
     "execution_count": 3,
     "metadata": {},
     "output_type": "execute_result"
    }
   ],
   "source": [
    "chain_javanese"
   ]
  },
  {
   "cell_type": "code",
   "execution_count": 4,
   "metadata": {},
   "outputs": [],
   "source": [
    "def generate_examples(language_chain, topic, n, batch_size=5):\n",
    "    num_batches = (n + batch_size - 1) // batch_size \n",
    "    examples = []\n",
    "    \n",
    "    for _ in range(num_batches):\n",
    "        batch_input = [{\"topic\": topic}] * batch_size\n",
    "        batch_output = language_chain.batch(batch_input)\n",
    "        examples.extend(batch_output)\n",
    "    \n",
    "    return examples[:n] "
   ]
  },
  {
   "cell_type": "code",
   "execution_count": 5,
   "metadata": {},
   "outputs": [],
   "source": [
    "def generate_examples_javanese(topic, n):\n",
    "    return generate_examples(chain_javanese, topic, n)\n",
    "\n",
    "def generate_examples_sundanese(topic, n):\n",
    "    return generate_examples(chain_sundanese, topic, n)"
   ]
  },
  {
   "cell_type": "code",
   "execution_count": 6,
   "metadata": {},
   "outputs": [],
   "source": [
    "topics_cat= {\n",
    "    \"Food\": [\n",
    "        \"Breakfast\", \"Lunch\", \"Dinner\", \"Snacks\", \"Food souvenir\",\n",
    "        \"Traditional foods and beverages\", \"Eating habit\", \"Cutlery\", \n",
    "        \"Cooking ware\", \"Fruits\"\n",
    "    ],\n",
    "    \"Wedding\": [\n",
    "        \"Traditions before marriage\", \"Traditions when getting married\", \n",
    "        \"Traditions after marriage\", \"Men's wedding clothes\", \n",
    "        \"Women's wedding clothes\", \"Invited guests\", \"Wedding location\", \n",
    "        \"Foods at a wedding\", \"Gifts brought to wedding\"\n",
    "    ],\n",
    "    \"Family relationship\": [\n",
    "        \"Relationships within the main family\", \n",
    "        \"Relationships in the extended family\", \n",
    "        \"Relations with society or neighbors\", \"Clan or descendant system\"\n",
    "    ],\n",
    "    \"Pregnancy and kids\": [\n",
    "        \"Traditions during pregnancy\", \"Traditions after birth\", \n",
    "        \"How to care for a newborn baby\", \"How to care for toddlers\", \n",
    "        \"How to care for children\", \"How to care for teenagers\", \n",
    "        \"Parents and children interactions as adults\"\n",
    "    ],\n",
    "    \"Death\": [\n",
    "        \"When death occurs\", \"The process of caring for a corpse\", \n",
    "        \"Traditions after the body is buried\", \"The clothes of the mourners\", \n",
    "        \"Inheritance matters\"\n",
    "    ],\n",
    "    \"Religious holiday\": [\n",
    "        \"Traditions before religious holidays\", \n",
    "        \"Traditions leading up to religious holidays\", \n",
    "        \"Traditions during holidays\", \"Traditions after religious holidays\"\n",
    "    ],\n",
    "    \"Agriculture\": [\n",
    "        \"What to plant\", \"Traditions when planting\", \"Harvest\"\n",
    "    ],\n",
    "    \"Fisheries and trade\": [\n",
    "        \"Traditions of taking care of livestock or fish\", \"Buying and selling traditions\"\n",
    "    ],\n",
    "    \"Art\": [\n",
    "        \"Musical instruments\", \"Folk songs\", \"Traditional dances\", \n",
    "        \"Use of art at certain events\", \"Poetry or similar literature\"\n",
    "    ],\n",
    "    \"Traditional games\": [\n",
    "        \"Game types\", \"Location played\"\n",
    "    ],\n",
    "    \"Daily activities\": [\n",
    "        \"Morning activities\", \"Afternoon activities\", \"Evening activities\", \n",
    "        \"Leisure activities\", \"Household chores\", \"Transportation\"\n",
    "    ],\n",
    "    \"Socio-religious aspects of life\": [\n",
    "        \"Regular religious activities\", \"Mystical things\", \"Traditional ceremonies\", \n",
    "        \"Lifestyle\", \"Self-care\", \"Traditional medicine\", \"Traditional sayings\"\n",
    "    ]\n",
    "}"
   ]
  },
  {
   "cell_type": "code",
   "execution_count": 9,
   "metadata": {},
   "outputs": [
    {
     "name": "stdout",
     "output_type": "stream",
     "text": [
      "Food (e.g.: food souvenir, traditional foods and beverages, eating habit, traditional cutlery or cooking ware, local fruit)\n"
     ]
    }
   ],
   "source": [
    "selected_topic = topics[0]\n",
    "print(selected_topic)\n",
    "\n",
    "javanese_examples = generate_examples_javanese(topic = 'food souvenir', n=1)"
   ]
  },
  {
   "cell_type": "code",
   "execution_count": 10,
   "metadata": {},
   "outputs": [
    {
     "name": "stdout",
     "output_type": "stream",
     "text": [
      "Story Premise: \"Lho, kok ra sah mangan, Mas?\" tanyaku maring Mas Joko sing lagi ngeliatin wedang uwuh ing ndalemku. \"Aku kudu nggoleki oleh-oleh panganan khas Jogja,\" jawab Mas Joko. Aku langsung ngerti, soale Mas Joko mau mudik nang omahane nang Solo. Mas Joko ora tau panganan khas Jogja.\n",
      "Correct Ending: Aku langsung ngajeni Mas Joko nang pasar Bringharjo kanggo golek oleh-oleh.\n",
      "Incorrect Ending: Aku ngajeni Mas Joko nang pasar Beringharjo kanggo golek wedang uwuh.\n",
      "\n",
      "Story Premise: Ning wis kumpul karo kanca-kancane nang angkringan. \"Aku pengin mangan gorengan,\" katane Ning. \"Lho, kok ora mangan bakso?\" tanyaku. Ning nggandhekake kancane sing liyane. \"Aku pengin mangan gorengan, tapi ora duwe duwit,\" jawab Ning.\n",
      "Correct Ending: Aku langsung ngajeni Ning nang warung gorengan kanggo mangan.\n",
      "Incorrect Ending: Aku ngajeni Ning nang warung bakso kanggo mangan.\n",
      "\n",
      "Story Premise: \"Lho, kok ra mangan, Mbak?\" tanyaku maring Mbak Ratih sing lagi ngeliatin jajanan pasar ing ndalemku. \"Aku kudu nggoleki oleh-oleh panganan khas Solo,\" jawab Mbak Ratih. Aku langsung ngerti, soale Mbak Ratih mau mudik nang omahane nang Semarang. Mbak Ratih ora tau panganan khas Solo.\n",
      "Correct Ending: Aku ngajeni Mbak Ratih nang pasar Klewer kanggo golek oleh-oleh.\n",
      "Incorrect Ending: Aku ngajeni Mbak Ratih nang pasar Gede kanggo golek jajanan pasar.\n"
     ]
    }
   ],
   "source": [
    "print(javanese_examples[0])"
   ]
  },
  {
   "cell_type": "code",
   "execution_count": 9,
   "metadata": {},
   "outputs": [
    {
     "data": {
      "text/plain": [
       "['Story Premise: \"Kapan saiki nggih, Mas? Aku arep mangan sing endhog, nanging aku ora duwe duit.\" Pitutur bocah wadon marang penjual sing nunggu ing warung tenda. \"Aku arep ngutang, nanging aku ora tau ngutang, aku ora duwe duit.\" \"Ya wis, nggih, aku ngerti, aku ora bakal ngutangke, nanging aku arep nggawe sing endhog, aku arep nggawe sing endhog kanggo kowe.\"\\nCorrect Ending: Bocah wadon iku ora duwe duit, nanging penjual iku ora ngutangke, nanging nggawe sing endhog kanggo kersane.\\nIncorrect Ending: Penjual iku ngutangke bocah wadon iku, nanging bocah wadon iku ora duwe duit kanggo ngbayar.\\n\\nStory Premise: \"Aku arep mangan sing endhog, nanging aku ora duwe duit.\" Pitutur bocah wadon marang penjual sing nunggu ing warung tenda. \"Ya wis, nggih, aku ngerti, aku ora bakal ngutangke, nanging aku arep nggawe sing endhog kanggo kowe.\" \"Aku ora duwe duit, nanging aku arep mangan sing endhog.\"\\nCorrect Ending: Penjual iku nggawe sing endhog kanggo bocah wadon iku, nanging bocah wadon iku ora duwe duit kanggo ngbayar.\\nIncorrect Ending: Penjual iku ngutangke bocah wadon iku, nanging bocah wadon iku ora duwe duit kanggo ngbayar.\\n\\nStory Premise: \"Aku arep mangan sing endhog, nanging aku ora duwe duit.\" Pitutur bocah wadon marang penjual sing nunggu ing warung tenda. \"Ya wis, nggih, aku ngerti, aku ora bakal ngutangke, nanging aku arep nggawe sing endhog kanggo kowe.\" \"Aku ora duwe duit, nanging aku arep mangan sing endhog.\"\\nCorrect Ending: Penjual iku nggawe sing endhog kanggo bocah wadon iku, nanging bocah wadon iku ora duwe duit kanggo ngbayar.\\nIncorrect Ending: Penjual iku ngutangke bocah wadon iku, nanging bocah wadon iku ora duwe duit kanggo ngbayar.']"
      ]
     },
     "execution_count": 9,
     "metadata": {},
     "output_type": "execute_result"
    }
   ],
   "source": [
    "javanese_examples"
   ]
  },
  {
   "cell_type": "code",
   "execution_count": 10,
   "metadata": {},
   "outputs": [
    {
     "name": "stdout",
     "output_type": "stream",
     "text": [
      "Total number of categories: 64\n"
     ]
    }
   ],
   "source": [
    "# Count the total number of categories across all topics\n",
    "total_categories = sum(len(categories) for categories in topics_cat.values())\n",
    "\n",
    "print(f\"Total number of categories: {total_categories}\")"
   ]
  },
  {
   "cell_type": "code",
   "execution_count": 11,
   "metadata": {},
   "outputs": [],
   "source": [
    "# If you want to run thru all category\n",
    "# # from tqdm.auto import tqdm\n",
    "\n",
    "# # responses = []\n",
    "\n",
    "# # for topic_name in tqdm(topics_cat.keys()):\n",
    "# #     print('Generating for topic:', topic_name)\n",
    "# #     categories = topics_cat[topic_name]  \n",
    "# #     for category in categories:\n",
    "# #         print('Generating for category:', category)\n",
    "# #         res = generate_examples_javanese(n=85, topic=category) \n",
    "# #         responses.append((topic_name, category, res))"
   ]
  },
  {
   "cell_type": "code",
   "execution_count": 6,
   "metadata": {},
   "outputs": [
    {
     "data": {
      "application/vnd.jupyter.widget-view+json": {
       "model_id": "0ab7c838d408438881e0b5755ffb66c0",
       "version_major": 2,
       "version_minor": 0
      },
      "text/plain": [
       "  0%|          | 0/12 [00:00<?, ?it/s]"
      ]
     },
     "metadata": {},
     "output_type": "display_data"
    },
    {
     "name": "stdout",
     "output_type": "stream",
     "text": [
      "Generating for topic: Food (e.g.: food souvenir, traditional foods and beverages, eating habit, traditional cutlery or cooking ware, local fruit)\n",
      "Generating for topic: Wedding (e.g.: traditions before, during, and after marriage, bride & groom wedding clothes, invited guests, wedding location, food and gifts)\n",
      "Generating for topic: Family relationships (e.g.: relationship with main and extended family, relation with society/neighbours, clan/descendant system)\n",
      "Generating for topic: Pregnancy and Kids (e.g.: traditions during pregnancy, traditions after birth, how to care for a newborn baby, how to care for toddlers, how to care for children, teenagers, parents and childrens interactions as adults)\n",
      "Generating for topic: Death (e.g.: tradition when death occurs, taking care of corpse, tradition after the body is buried, clothes of the mourners, inheritance matters)\n",
      "Generating for topic: Religious holidays (e.g.: traditions before religious holidays, traditions leading up to religious holidays, traditions during religious holidays, traditions after religious holidays)\n",
      "Generating for topic: Agriculture (e.g.:what to plant, traditions when planting, harvest)\n",
      "Generating for topic: fisheries and trade (e.g.: traditions of taking care of livestock/fish, buying and selling traditions)\n",
      "Generating for topic: Art (e.g.: musical instruments, folks songs, traditional dances, use of art at certain events, poetry or similar literature)\n",
      "Generating for topic: Traditional games (e.g.: game types, location played)\n",
      "Generating for topic: Daily activities (e.g.: morning activities, afternoon activities, evening activities, leisure activities, house, household and transportation)\n",
      "Generating for topic: Socio-religious aspect of life (e.g.: regular religious activities, mystical things, traditional ceremonies, lifestyle, self care, traditional medicine, traditional saying)\n"
     ]
    }
   ],
   "source": [
    "from tqdm.auto import tqdm\n",
    "\n",
    "responses = []\n",
    "\n",
    "# Loop over each topic (0 to 11) with a progress bar\n",
    "for idx in tqdm(range(len(topics))):  \n",
    "    print('Generating for topic:', topics[idx])\n",
    "    topic = topics[idx] \n",
    "    res = generate_examples_javanese(n=30,topic=topic) \n",
    "    responses.append((topic, res)) "
   ]
  },
  {
   "cell_type": "code",
   "execution_count": 7,
   "metadata": {},
   "outputs": [],
   "source": [
    "import re\n",
    "def parse_generated_stories(topic, res):\n",
    "    # Split the input based on double new lines to separate each story\n",
    "    res = re.sub(r'\\d+\\.\\s*', '', res)\n",
    "    res = res.split('\\n')\n",
    "    stories = []\n",
    "    premise, correct_ending, incorrect_ending = None, None, None\n",
    "    for line in res:\n",
    "        if 'story premise' in line.lower():\n",
    "            premise = line.split(':')[-1].strip()\n",
    "        elif 'incorrect ending' in line.lower():\n",
    "            incorrect_ending = line.split(\":\")[-1].strip()\n",
    "            stories.append({\"topic\": topic, \"premise\": premise, \n",
    "                            \"correct_ending\": correct_ending, \"incorrect_ending\": incorrect_ending})\n",
    "            premise, correct_ending, incorrect_ending = None, None, None\n",
    "        elif 'correct ending' in line.lower():\n",
    "            correct_ending = line.split(':')[-1].strip()\n",
    "        else:\n",
    "            continue\n",
    "\n",
    "    return stories"
   ]
  },
  {
   "cell_type": "code",
   "execution_count": 8,
   "metadata": {},
   "outputs": [],
   "source": [
    "responses_flattened = [(topics, res) for topics, subset in responses for res in subset]\n",
    "responses_formatted = [parse_generated_stories(topics, res) for topics, res in responses_flattened]\n",
    "responses_final = [story for subset in responses_formatted for story in subset]"
   ]
  },
  {
   "cell_type": "code",
   "execution_count": 9,
   "metadata": {},
   "outputs": [
    {
     "data": {
      "text/plain": [
       "[{'topic': 'Food (e.g.: food souvenir, traditional foods and beverages, eating habit, traditional cutlery or cooking ware, local fruit)',\n",
       "  'premise': 'Joko lan Yanto arep tuku oleh-oleh. Dheweke arep mangan ing warung. Warunge wis tutup. Dheweke ora entuk oleh-oleh.',\n",
       "  'correct_ending': 'Dheweke arep tuku oleh-oleh lan mangan ing warung liyane.',\n",
       "  'incorrect_ending': 'Dheweke ora entuk oleh-oleh lan mangan ing warung.'},\n",
       " {'topic': 'Food (e.g.: food souvenir, traditional foods and beverages, eating habit, traditional cutlery or cooking ware, local fruit)',\n",
       "  'premise': 'Sinta seneng mangan tempe. Dheweke arep tuku tempe. Tempe sing diwarunge wis habis. Sinta ora entuk tempe.',\n",
       "  'correct_ending': 'Sinta tuku tempe ing pasar.',\n",
       "  'incorrect_ending': 'Sinta ora mangan tempe.'},\n",
       " {'topic': 'Food (e.g.: food souvenir, traditional foods and beverages, eating habit, traditional cutlery or cooking ware, local fruit)',\n",
       "  'premise': 'Bayu lan Bagas arep tuku wedang ronde. Dheweke arep mangan ing warung. Warunge wis tutup. Dheweke ora entuk wedang ronde.',\n",
       "  'correct_ending': 'Dheweke tuku wedang ronde ing pasar.',\n",
       "  'incorrect_ending': 'Dheweke ora mangan wedang ronde.'},\n",
       " {'topic': 'Food (e.g.: food souvenir, traditional foods and beverages, eating habit, traditional cutlery or cooking ware, local fruit)',\n",
       "  'premise': 'Joko lan Yanto padha seneng mangan. Sing diomongke dheweke padha seneng mangan panganan tradisional. Sing paling disenengi dheweke yaiku gudeg. Sing ora disenengi dheweke yaiku sayur asem.',\n",
       "  'correct_ending': 'Sing disenengi dheweke padha panganan tradisional.',\n",
       "  'incorrect_ending': 'Sing disenengi dheweke padha panganan moderen.'},\n",
       " {'topic': 'Food (e.g.: food souvenir, traditional foods and beverages, eating habit, traditional cutlery or cooking ware, local fruit)',\n",
       "  'premise': 'Dina lan kanca-kancane padha seneng mangan. Dina kepingin tuku panganan khas. Dina tuku klepon lan wajik. Dina lan kanca-kancane padha seneng mangan panganan khas.',\n",
       "  'correct_ending': 'Dina lan kanca-kancane padha seneng mangan panganan khas.',\n",
       "  'incorrect_ending': 'Dina lan kanca-kancane padha ora seneng mangan panganan khas.'}]"
      ]
     },
     "execution_count": 9,
     "metadata": {},
     "output_type": "execute_result"
    }
   ],
   "source": [
    "responses_final[:5]"
   ]
  },
  {
   "cell_type": "code",
   "execution_count": 10,
   "metadata": {},
   "outputs": [
    {
     "data": {
      "text/plain": [
       "1077"
      ]
     },
     "execution_count": 10,
     "metadata": {},
     "output_type": "execute_result"
    }
   ],
   "source": [
    "len(responses_final)"
   ]
  },
  {
   "cell_type": "code",
   "execution_count": 11,
   "metadata": {},
   "outputs": [],
   "source": [
    "import pickle as pkl\n",
    "\n",
    "pkl.dump(responses_final, open(\"train_cohere_rplus_jv.pkl\", 'wb'))"
   ]
  },
  {
   "cell_type": "code",
   "execution_count": 12,
   "metadata": {},
   "outputs": [],
   "source": [
    "import pandas as pd \n",
    "pd.DataFrame(responses_final).to_csv(\"train_cohere_rplus_jv.csv\", index=False)"
   ]
  },
  {
   "cell_type": "code",
   "execution_count": 13,
   "metadata": {},
   "outputs": [],
   "source": [
    "# List of topics in numbered format\n",
    "short_topics = [\n",
    "    'Food', 'Wedding', 'Family Relationship', 'Pregnancy and Kids', 'Death', \n",
    "    'Religious Holiday', 'Agriculture', 'Fishers and Trade', 'Art', \n",
    "    'Traditional Games', 'Daily Activities', 'Socio-religious'\n",
    "]\n",
    "\n",
    "# Create a mapping between detailed topics and numbered topics\n",
    "topic_mapping = {detailed_topic: short_topic for detailed_topic, short_topic in zip(topics, short_topics)}\n",
    "# Assuming 'responses_final' is your dataset as a pandas DataFrame\n",
    "df = pd.DataFrame(responses_final)\n",
    "\n",
    "# Replace the 'topic' column values with the shorter numbered names\n",
    "df['topic'] = df['topic'].map(topic_mapping)\n",
    "df.to_csv(\"train_cohere_rplus_jv.csv\", index=False)"
   ]
  },
  {
   "cell_type": "code",
   "execution_count": 14,
   "metadata": {},
   "outputs": [
    {
     "data": {
      "text/plain": [
       "[{'topic': 'Food (e.g.: food souvenir, traditional foods and beverages, eating habit, traditional cutlery or cooking ware, local fruit)',\n",
       "  'premise': 'Joko lan Yanto arep tuku oleh-oleh. Dheweke arep mangan ing warung. Warunge wis tutup. Dheweke ora entuk oleh-oleh.',\n",
       "  'correct_ending': 'Dheweke arep tuku oleh-oleh lan mangan ing warung liyane.',\n",
       "  'incorrect_ending': 'Dheweke ora entuk oleh-oleh lan mangan ing warung.'},\n",
       " {'topic': 'Food (e.g.: food souvenir, traditional foods and beverages, eating habit, traditional cutlery or cooking ware, local fruit)',\n",
       "  'premise': 'Sinta seneng mangan tempe. Dheweke arep tuku tempe. Tempe sing diwarunge wis habis. Sinta ora entuk tempe.',\n",
       "  'correct_ending': 'Sinta tuku tempe ing pasar.',\n",
       "  'incorrect_ending': 'Sinta ora mangan tempe.'},\n",
       " {'topic': 'Food (e.g.: food souvenir, traditional foods and beverages, eating habit, traditional cutlery or cooking ware, local fruit)',\n",
       "  'premise': 'Bayu lan Bagas arep tuku wedang ronde. Dheweke arep mangan ing warung. Warunge wis tutup. Dheweke ora entuk wedang ronde.',\n",
       "  'correct_ending': 'Dheweke tuku wedang ronde ing pasar.',\n",
       "  'incorrect_ending': 'Dheweke ora mangan wedang ronde.'}]"
      ]
     },
     "execution_count": 14,
     "metadata": {},
     "output_type": "execute_result"
    }
   ],
   "source": [
    "responses_final[:3]"
   ]
  },
  {
   "cell_type": "code",
   "execution_count": 15,
   "metadata": {},
   "outputs": [],
   "source": [
    "def remove_duplicates(input_list):\n",
    "    seen = []\n",
    "    unique_list = []\n",
    "\n",
    "    for item in input_list:\n",
    "        # Convert the dictionary to a frozenset of its items for hashing\n",
    "        item_tuple = frozenset(item.items())\n",
    "        if item_tuple not in seen:\n",
    "            seen.append(item_tuple)\n",
    "            unique_list.append(item)\n",
    "\n",
    "    return unique_list\n",
    "\n",
    "responses_final_unique = remove_duplicates(responses_final)"
   ]
  },
  {
   "cell_type": "code",
   "execution_count": 17,
   "metadata": {},
   "outputs": [
    {
     "data": {
      "text/plain": [
       "1076"
      ]
     },
     "execution_count": 17,
     "metadata": {},
     "output_type": "execute_result"
    }
   ],
   "source": [
    "len(responses_final_unique)"
   ]
  },
  {
   "cell_type": "code",
   "execution_count": null,
   "metadata": {},
   "outputs": [],
   "source": []
  }
 ],
 "metadata": {
  "kernelspec": {
   "display_name": "Python 3",
   "language": "python",
   "name": "python3"
  },
  "language_info": {
   "codemirror_mode": {
    "name": "ipython",
    "version": 3
   },
   "file_extension": ".py",
   "mimetype": "text/x-python",
   "name": "python",
   "nbconvert_exporter": "python",
   "pygments_lexer": "ipython3",
   "version": "3.9.6"
  }
 },
 "nbformat": 4,
 "nbformat_minor": 2
}
