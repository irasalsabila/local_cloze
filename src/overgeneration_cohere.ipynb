{
 "cells": [
  {
   "cell_type": "code",
   "execution_count": 11,
   "metadata": {},
   "outputs": [],
   "source": [
    "import getpass\n",
    "import os\n",
    "import cohere\n",
    "from langchain_cohere import ChatCohere\n",
    "\n",
    "os.environ[\"COHERE_API_KEY\"] = getpass.getpass(\"Enter your Cohere API Key: \")\n",
    "# uVyZSCrGIWJcrJxEAqTuHirWOEazjbgXlJMlLPm1\n",
    "# co = cohere.Client(os.environ[\"COHERE_API_KEY\"])\n",
    "model = ChatCohere(model=\"command-r-08-2024\", safety_mode=\"CONTEXTUAL\")"
   ]
  },
  {
   "cell_type": "code",
   "execution_count": 12,
   "metadata": {},
   "outputs": [],
   "source": [
    "from langchain_core.output_parsers import StrOutputParser\n",
    "from prompt import topics, javanese_overgeneration_prompt, sundanese_overgeneration_prompt\n",
    "\n",
    "# Function to create a chain for the selected language\n",
    "def create_chain(prompt_template, model):\n",
    "    return prompt_template | model | StrOutputParser()\n",
    "\n",
    "chain_sundanese = create_chain(sundanese_overgeneration_prompt, model)\n",
    "chain_javanese = create_chain(javanese_overgeneration_prompt, model)"
   ]
  },
  {
   "cell_type": "code",
   "execution_count": 13,
   "metadata": {},
   "outputs": [
    {
     "data": {
      "text/plain": [
       "FewShotPromptTemplate(input_variables=['topic'], example_selector=<prompt.CustomExampleSelector object at 0x105913ee0>, example_prompt=PromptTemplate(input_variables=['correct_ending', 'story_premise', 'wrong_ending'], template='Story Premise: {story_premise}\\nCorrect Ending: {correct_ending}\\nIncorrect Ending: {wrong_ending}'), suffix='Please generate several triplets, strictly following the format in the examples, do not add bullets or any additional response.', prefix='Your task is to write several triplets of story premises consisting of four sentences, wrong ending, and correct ending in Javanese. Include Javanese cultural values in the story with the topic \"{topic}\". Here are some examples of the story format:')\n",
       "| ChatCohere(client=<cohere.client.Client object at 0x13cc53be0>, async_client=<cohere.client.AsyncClient object at 0x13cc53f10>, model='command-r-08-2024', cohere_api_key=SecretStr('**********'))\n",
       "| StrOutputParser()"
      ]
     },
     "execution_count": 13,
     "metadata": {},
     "output_type": "execute_result"
    }
   ],
   "source": [
    "chain_javanese"
   ]
  },
  {
   "cell_type": "code",
   "execution_count": 14,
   "metadata": {},
   "outputs": [],
   "source": [
    "def generate_examples(language_chain, topic, n, batch_size=5):\n",
    "    num_batches = (n + batch_size - 1) // batch_size \n",
    "    examples = []\n",
    "    \n",
    "    for _ in range(num_batches):\n",
    "        batch_input = [{\"topic\": topic}] * batch_size\n",
    "        batch_output = language_chain.batch(batch_input)\n",
    "        examples.extend(batch_output)\n",
    "    \n",
    "    return examples[:n] "
   ]
  },
  {
   "cell_type": "code",
   "execution_count": 15,
   "metadata": {},
   "outputs": [],
   "source": [
    "def generate_examples_javanese(topic, n):\n",
    "    return generate_examples(chain_javanese, topic, n)\n",
    "\n",
    "def generate_examples_sundanese(topic, n):\n",
    "    return generate_examples(chain_sundanese, topic, n)"
   ]
  },
  {
   "cell_type": "code",
   "execution_count": 16,
   "metadata": {},
   "outputs": [
    {
     "name": "stdout",
     "output_type": "stream",
     "text": [
      "Food (e.g.: food souvenir, traditional foods and beverages, eating habit, traditional cutlery or cooking ware, local fruit)\n"
     ]
    }
   ],
   "source": [
    "selected_topic = topics[0]\n",
    "print(selected_topic)\n",
    "\n",
    "javanese_examples = generate_examples_javanese(topic = selected_topic, n=1)"
   ]
  },
  {
   "cell_type": "code",
   "execution_count": 17,
   "metadata": {},
   "outputs": [
    {
     "name": "stdout",
     "output_type": "stream",
     "text": [
      "Story Premise: Ngluwihake budaya kulinere, Pak Lik ngrencanake tur marang museum kuliner. Museum iki nggawe kagetan, nggawe wong kaget karo koleksi sing ajaib. Pak Lik nggawe tur iki kanggo ngajake wong-wong marang budaya kulinere.\n",
      "Correct Ending: Tur iki nggawe wong kaget, tur nggawe wong kangen marang rasa-rasa sing langka.\n",
      "Incorrect Ending: Tur iki ora sukses, wong-wong ora tertarik marang budaya kulinere.\n",
      "\n",
      "Story Premise: Mbok Darso nggawe kerupuk sing ajaib, ora nggunakake bahan-bahan sing biasa. Kerupuk iki ora biasa, ora nggunakake bahan-bahan sing umum. Mbok Darso nggawe kerupuk iki kanggo nggawe wong penasaran.\n",
      "Correct Ending: Kerupuk iki nggawe wong penasaran, lan wong-wong nggawe antusias marang rasa sing anyar.\n",
      "Incorrect Ending: Kerupuk iki ora digemari, wong-wong ora suka marang rasa sing anyar.\n",
      "\n",
      "Story Premise: Pak Lik ngrencanake acara nguri-uri budaya kulinere, nggawe acara nggawe wong penasaran marang rasa-rasa sing langka. Acara iki nggawe wong kaget, nggawe wong kangen marang rasa-rasa sing langka.\n",
      "Correct Ending: Acara iki sukses, wong-wong nggawe antusias marang budaya kulinere.\n",
      "Incorrect Ending: Acara iki ora sukses, wong-wong ora tertarik marang budaya kulinere.\n",
      "\n",
      "Story Premise: Mbok Darso nggawe kerupuk sing ajaib, nggawe kerupuk sing ora biasa. Kerupuk iki nggawe wong penasaran, nggawe wong kangen marang rasa sing anyar. Mbok Darso nggawe kerupuk iki kanggo nggawe wong antusias.\n",
      "Correct Ending: Kerupuk iki digemari, wong-wong nggawe antusias marang rasa sing anyar.\n",
      "Incorrect Ending: Kerupuk iki ora digemari, wong-wong ora suka marang rasa sing anyar.\n",
      "\n",
      "Story Premise: Pak Lik nggawe acara nguri-uri budaya kulinere, nggawe acara sing nggawe wong penasaran. Acara iki nggawe wong kaget, nggawe wong kangen marang rasa-rasa sing langka. Pak Lik nggawe acara iki kanggo nggawe wong antusias.\n",
      "Correct Ending: Acara iki sukses, wong-wong nggawe antusias marang budaya kulinere.\n",
      "Incorrect Ending: Acara iki ora sukses, wong-wong ora tertarik marang budaya kulinere.\n"
     ]
    }
   ],
   "source": [
    "print(javanese_examples[0])"
   ]
  },
  {
   "cell_type": "code",
   "execution_count": 9,
   "metadata": {},
   "outputs": [
    {
     "data": {
      "text/plain": [
       "['Story Premise: \"Kapan saiki nggih, Mas? Aku arep mangan sing endhog, nanging aku ora duwe duit.\" Pitutur bocah wadon marang penjual sing nunggu ing warung tenda. \"Aku arep ngutang, nanging aku ora tau ngutang, aku ora duwe duit.\" \"Ya wis, nggih, aku ngerti, aku ora bakal ngutangke, nanging aku arep nggawe sing endhog, aku arep nggawe sing endhog kanggo kowe.\"\\nCorrect Ending: Bocah wadon iku ora duwe duit, nanging penjual iku ora ngutangke, nanging nggawe sing endhog kanggo kersane.\\nIncorrect Ending: Penjual iku ngutangke bocah wadon iku, nanging bocah wadon iku ora duwe duit kanggo ngbayar.\\n\\nStory Premise: \"Aku arep mangan sing endhog, nanging aku ora duwe duit.\" Pitutur bocah wadon marang penjual sing nunggu ing warung tenda. \"Ya wis, nggih, aku ngerti, aku ora bakal ngutangke, nanging aku arep nggawe sing endhog kanggo kowe.\" \"Aku ora duwe duit, nanging aku arep mangan sing endhog.\"\\nCorrect Ending: Penjual iku nggawe sing endhog kanggo bocah wadon iku, nanging bocah wadon iku ora duwe duit kanggo ngbayar.\\nIncorrect Ending: Penjual iku ngutangke bocah wadon iku, nanging bocah wadon iku ora duwe duit kanggo ngbayar.\\n\\nStory Premise: \"Aku arep mangan sing endhog, nanging aku ora duwe duit.\" Pitutur bocah wadon marang penjual sing nunggu ing warung tenda. \"Ya wis, nggih, aku ngerti, aku ora bakal ngutangke, nanging aku arep nggawe sing endhog kanggo kowe.\" \"Aku ora duwe duit, nanging aku arep mangan sing endhog.\"\\nCorrect Ending: Penjual iku nggawe sing endhog kanggo bocah wadon iku, nanging bocah wadon iku ora duwe duit kanggo ngbayar.\\nIncorrect Ending: Penjual iku ngutangke bocah wadon iku, nanging bocah wadon iku ora duwe duit kanggo ngbayar.']"
      ]
     },
     "execution_count": 9,
     "metadata": {},
     "output_type": "execute_result"
    }
   ],
   "source": [
    "javanese_examples"
   ]
  },
  {
   "cell_type": "code",
   "execution_count": null,
   "metadata": {},
   "outputs": [],
   "source": []
  }
 ],
 "metadata": {
  "kernelspec": {
   "display_name": "Python 3",
   "language": "python",
   "name": "python3"
  },
  "language_info": {
   "codemirror_mode": {
    "name": "ipython",
    "version": 3
   },
   "file_extension": ".py",
   "mimetype": "text/x-python",
   "name": "python",
   "nbconvert_exporter": "python",
   "pygments_lexer": "ipython3",
   "version": "3.9.6"
  }
 },
 "nbformat": 4,
 "nbformat_minor": 2
}
