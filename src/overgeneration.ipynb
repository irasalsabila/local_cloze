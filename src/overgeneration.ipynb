{
 "cells": [
  {
   "cell_type": "code",
   "execution_count": 1,
   "metadata": {},
   "outputs": [],
   "source": [
    "import getpass\n",
    "import os\n",
    "\n",
    "os.environ[\"OPENAI_API_KEY\"] = getpass.getpass()\n",
    "\n",
    "from langchain_openai import ChatOpenAI\n",
    "\n",
    "model = ChatOpenAI(model=\"gpt-4o\") # temperature 0.7 (default)"
   ]
  },
  {
   "cell_type": "code",
   "execution_count": 4,
   "metadata": {},
   "outputs": [],
   "source": [
    "from langchain_core.output_parsers import StrOutputParser\n",
    "from prompt import sundanese_overgeneration_prompt, topics\n",
    "\n",
    "chain = sundanese_overgeneration_prompt | model | StrOutputParser()\n",
    "\n",
    "def generate_25_examples(topic):\n",
    "    return chain.batch([{\"topic\":topic}] * 5)"
   ]
  },
  {
   "cell_type": "code",
   "execution_count": 12,
   "metadata": {},
   "outputs": [
    {
     "data": {
      "text/plain": [
       "FewShotPromptTemplate(input_variables=['topic'], example_selector=<prompt.CustomExampleSelector object at 0x109af4160>, example_prompt=PromptTemplate(input_variables=['correct_ending', 'story_premise', 'wrong_ending'], template='Story Premise: {story_premise}\\nCorrect Ending: {correct_ending}\\nIncorrect Ending: {wrong_ending}'), suffix='Please generate several triplets, strictly following the format in the examples, do not add bullets or any additional response.', prefix='Your task is to write severals triplets of story premises consists of four sentences, wrong ending, and correct ending in Sundanese. Include sundanese cultural value in the story with the topic \"{topic}\". Here are some examples of the story format:')"
      ]
     },
     "execution_count": 12,
     "metadata": {},
     "output_type": "execute_result"
    }
   ],
   "source": [
    "sundanese_overgeneration_prompt"
   ]
  },
  {
   "cell_type": "code",
   "execution_count": 6,
   "metadata": {},
   "outputs": [
    {
     "name": "stdout",
     "output_type": "stream",
     "text": [
      "Story Premise: Mang Darman sok ngadamel jamu tradisional unggal isuk-isuk. Manéhna percaya yén jamu tiasa ngajaga kasehatan. Unggal isuk, tanggana sok meuli jamu ti Mang Darman. Jamu éta dijieun tina campuran jahe, kunyit, sareng bahan alami séjénna.\n",
      "Correct Ending: Tanggana ngarasa langkung séhat sanggeus rutin nginum jamu ti Mang Darman\n",
      "Incorrect Ending: Mang Darman mutuskeun pikeun ngeureunkeun ngadamel jamu\n",
      "\n",
      "Story Premise: Engkus sok nginum jamu peuyem saméméh sare. Manéhna yakin yén jamu éta tiasa ngusir setrés. Engkus sering nyaritakeun ka babaturanana ngeunaan khasiat jamu peuyem. Sababaraha babaturanana mimiti nginum jamu éta ogé.\n",
      "Correct Ending: Babaturanana ogé ngaraos langkung santai sanggeus nginum jamu peuyem\n",
      "Incorrect Ending: Babaturanana jadi teu hayang ngobrol deui jeung Engkus\n",
      "\n",
      "Story Premise: Dina upacara adat Seren Taun, masarakat ngumpul di balé desa. Arak-arakan hasil tani disayogikeun ka karuhun. Aya tari-tarian tradisional sareng musik gamelan pikeun ngiringan upacara. Warga desa sok antusias ngiringan acara ieu.\n",
      "Correct Ending: Upacara ieu mangrupakeun ungkapan syukur ka Gusti anu Maha Esa\n",
      "Incorrect Ending: Warga desa sok ngaraos bosan nalika upacara Seren Taun\n",
      "\n",
      "Story Premise: Bi Eros boga pangalaman gaib di kebon kopi. Manéhna ningali bayangan anu ngalayang di antara tangkal kopi. Bi Eros langsung ngadu'a sareng maca ayat-ayat suci. Saatos éta, bayangan éta téh ngiles.\n",
      "Correct Ending: Bi Eros yakin yén do'a éta ngajaga manéhna tina gangguan gaib\n",
      "Incorrect Ending: Bi Eros mutuskeun pikeun ngeureunkeun usaha kopi na\n",
      "\n",
      "Story Premise: Kang Jaja sok ngalakukeun solat berjamaah di masjid desa. Unggal magrib jeung isya, manéhna sok jadi imam. Warga desa seueur anu kagum ku kaparigelanana. Maranéhanana sok ngadéngékeun ceramah ti Kang Jaja sanggeus solat.\n",
      "Correct Ending: Warga desa ngarasa tenang jeung meunang wawasan anyar sanggeus ngadéngé ceramah\n",
      "Incorrect Ending: Kang Jaja mutuskeun pikeun hijrah ka kota badag\n",
      "\n",
      "Story Premise: Ibu Rina sok ngajarkeun barudak ngaji di pengajian mingguan. Barudak desa antusias pisan diajar ngaji babarengan. Ibu Rina ogé sok nyaritakeun dongéng-dongéng islami pikeun ngabeungharan pangaweruh maranéhna. Barudak sok ngaregepkeun kalawan sumanget.\n",
      "Correct Ending: Barudak jadi leuwih apal ayat-ayat Al-Quran jeung nyaho hartina\n",
      "Incorrect Ending: Barudak jadi bosen jeung teu hayang ngaji deui\n",
      "\n",
      "Story Premise: Pak Ujang sok ngalakukeun ritual ngasuh dina waktu bulan purnama. Manéhna percaya yén ngasuh tiasa ngusir roh jahat. Warga desa sering ngilu dina ritual éta. Ritual diayakeun di leuweung caket desa.\n",
      "Correct Ending: Ritual ieu jadi bagian tina tradisi anu dijaga tur dihormat ku warga desa\n",
      "Incorrect Ending: Warga desa jadi sieun ka Pak Ujang sanggeus ritual ngasuh\n",
      "\n",
      "Story Premise: Kang Asep sok nguriling kampung pikeun meriksa kaséhatan warga. Manéhna ngagunakeun ubar tradisional pikeun ngubaran panyakit. Kang Asep sok nyarankeun warga pikeun ngagunakeun daun, akar, sareng rempah-rempah lokal. Warga percaya kana kakuatan ubar tradisional Kang Asep.\n",
      "Correct Ending: Warga desa jadi leuwih percaya kana ubar tradisional tur rajin ngarawat kaséhatan\n",
      "Incorrect Ending: Warga desa henteu hayang diubaran ku Kang Asep deui\n"
     ]
    }
   ],
   "source": [
    "res = generate_25_examples(topics[-1])\n",
    "print(res[0])"
   ]
  },
  {
   "cell_type": "code",
   "execution_count": null,
   "metadata": {},
   "outputs": [],
   "source": [
    "from tqdm.auto import tqdm\n",
    "\n",
    "responses = []\n",
    "\n",
    "for _ in tqdm(range(40)):\n",
    "    res = generate_25_examples()\n",
    "    responses.append(res)"
   ]
  },
  {
   "cell_type": "code",
   "execution_count": null,
   "metadata": {},
   "outputs": [],
   "source": [
    "import re\n",
    "def parse_generated_stories(res):\n",
    "    # Split the input based on double new lines to separate each story\n",
    "    res = re.sub(r'\\d+\\.\\s*', '', res)\n",
    "    res = res.split('\\n')\n",
    "    stories = []\n",
    "    premise, correct_ending, incorrect_ending = None, None, None\n",
    "    for line in res:\n",
    "        if 'story premise' in line.lower():\n",
    "            premise = line.split(':')[-1].strip()\n",
    "        elif 'incorrect ending' in line.lower():\n",
    "            incorrect_ending = line.split(\":\")[-1].strip()\n",
    "            stories.append({\"premise\": premise, \"correct_ending\": correct_ending, \"incorrect_ending\": incorrect_ending})\n",
    "            premise, correct_ending, incorrect_ending = None, None, None\n",
    "        elif 'correct ending' in line.lower():\n",
    "            correct_ending = line.split(':')[-1].strip()\n",
    "        else:\n",
    "            continue\n",
    "\n",
    "    return stories"
   ]
  },
  {
   "cell_type": "code",
   "execution_count": null,
   "metadata": {},
   "outputs": [],
   "source": [
    "responses_flattened = [res for subset in responses for res in subset]\n",
    "responses_formatted = [parse_generated_stories(res) for res in responses_flattened]\n",
    "responses_final = [res for subset in responses_formatted for res in subset]\n"
   ]
  },
  {
   "cell_type": "code",
   "execution_count": null,
   "metadata": {},
   "outputs": [],
   "source": [
    "import pickle as pkl\n",
    "\n",
    "pkl.dump(responses_final, open(\"generated_stories.pkl\", 'wb'))"
   ]
  },
  {
   "cell_type": "code",
   "execution_count": null,
   "metadata": {},
   "outputs": [],
   "source": [
    "import pandas as pd \n",
    "pd.DataFrame(responses_final).to_csv(\"train_gpt4o.csv\", index=False)"
   ]
  },
  {
   "cell_type": "code",
   "execution_count": null,
   "metadata": {},
   "outputs": [],
   "source": []
  }
 ],
 "metadata": {
  "kernelspec": {
   "display_name": "local_cloze",
   "language": "python",
   "name": "python3"
  },
  "language_info": {
   "codemirror_mode": {
    "name": "ipython",
    "version": 3
   },
   "file_extension": ".py",
   "mimetype": "text/x-python",
   "name": "python",
   "nbconvert_exporter": "python",
   "pygments_lexer": "ipython3",
   "version": "3.10.14"
  }
 },
 "nbformat": 4,
 "nbformat_minor": 2
}
