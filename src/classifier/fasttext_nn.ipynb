{
 "cells": [
  {
   "cell_type": "code",
   "execution_count": 3,
   "metadata": {},
   "outputs": [],
   "source": [
    "import pandas as pd\n",
    "\n",
    "def read_data(fname, num_sent=4):\n",
    "    contexts = []\n",
    "    endings = []\n",
    "    labels = []\n",
    "    data = pd.read_csv(fname)\n",
    "    for idx, row in data.iterrows():\n",
    "        sents = []\n",
    "        for i in [4,3,2,1]:\n",
    "            if len(sents) == num_sent:\n",
    "                break\n",
    "            sents.insert(0, row[f'sentence_{i}'].strip())\n",
    "        context = ' '.join(sents) # row['Kalimat-1'] +' '+ row['Kalimat-2'] +' '+ row['Kalimat-3'] +' '+ row['Kalimat-4']\n",
    "        ending1 = row['correct_ending'].strip()\n",
    "        ending2 = row['incorrect_ending'].strip()\n",
    "        \n",
    "        contexts.append(context)\n",
    "        endings.append(ending1)\n",
    "        labels.append(1)\n",
    "        \n",
    "        contexts.append(context)\n",
    "        endings.append(ending2)\n",
    "        labels.append(0)\n",
    "    return contexts, endings, labels"
   ]
  },
  {
   "cell_type": "code",
   "execution_count": 4,
   "metadata": {},
   "outputs": [],
   "source": [
    "import fasttext\n",
    "\n",
    "fasttext_model = fasttext.load_model(\"cc.su.300.bin\")"
   ]
  },
  {
   "cell_type": "code",
   "execution_count": 11,
   "metadata": {},
   "outputs": [],
   "source": [
    "from numpy import dot\n",
    "from numpy.linalg import norm\n",
    "import numpy as np\n",
    "\n",
    "\n",
    "def cos_sim(a,b):\n",
    "    return dot(a, b)/(norm(a)*norm(b))\n",
    "\n",
    "def get_score(sent1, sent2):\n",
    "    arr1 = np.zeros(300)\n",
    "    for word in sent1.split():\n",
    "        arr1+=fasttext_model.get_word_vector(word.lower())\n",
    "    \n",
    "    arr2 = np.zeros(300)\n",
    "    for word in sent2.split():\n",
    "        arr2+=fasttext_model.get_word_vector(word.lower())\n",
    "    arr1 = arr1 / len(sent1.split())       \n",
    "    arr2 = arr2 / len(sent2.split())\n",
    "    return cos_sim(arr1, arr2)"
   ]
  },
  {
   "cell_type": "code",
   "execution_count": 14,
   "metadata": {},
   "outputs": [
    {
     "name": "stdout",
     "output_type": "stream",
     "text": [
      "1 0.592\n",
      "2 0.596\n",
      "3 0.64\n",
      "4 0.648\n"
     ]
    }
   ],
   "source": [
    "for num_sent in [1,2,3,4]:\n",
    "    scores = []; true = 0; idy = 0\n",
    "    contexts, endings, _ = read_data('../../dataset/test_su_dummy.csv', num_sent)\n",
    "    for idx, context in enumerate(contexts):\n",
    "        scores.append(get_score(context, endings[idx]))\n",
    "    while idy < len(scores):\n",
    "        if scores[idy] > scores[idy+1]:\n",
    "            true+=1        \n",
    "        idy+=2\n",
    "    print(num_sent, true/(len(contexts)/2))"
   ]
  },
  {
   "cell_type": "code",
   "execution_count": null,
   "metadata": {},
   "outputs": [],
   "source": []
  }
 ],
 "metadata": {
  "kernelspec": {
   "display_name": "local_cloze",
   "language": "python",
   "name": "python3"
  },
  "language_info": {
   "codemirror_mode": {
    "name": "ipython",
    "version": 3
   },
   "file_extension": ".py",
   "mimetype": "text/x-python",
   "name": "python",
   "nbconvert_exporter": "python",
   "pygments_lexer": "ipython3",
   "version": "3.10.14"
  }
 },
 "nbformat": 4,
 "nbformat_minor": 2
}
