{
 "cells": [
  {
   "cell_type": "code",
   "execution_count": 1,
   "metadata": {},
   "outputs": [
    {
     "name": "stderr",
     "output_type": "stream",
     "text": [
      "Preacceleration-Process will take a few minutes.\n",
      "Tips: The smaller `timeout` value, the fewer translators pass the test and the less time it takes to preaccelerate. However, the slow speed of preacceleration does not mean the slow speed of later translation.\n",
      "\n",
      "Preacceleration Process:   0%|                           | 0/37 [00:00<?, ?it/s]TimeSpent(function: alibaba): 7.09s\n",
      "Preacceleration Process:   3%|▌                  | 1/37 [00:07<04:15,  7.09s/it]TimeSpent(function: apertium): 1.74s\n",
      "Preacceleration Process:   8%|█▌                 | 3/37 [00:10<01:33,  2.74s/it]TimeSpent(function: baidu): 3.43s\n",
      "Preacceleration Process:  16%|███                | 6/37 [00:15<01:03,  2.03s/it]TimeSpent(function: cloudTranslation): 16.11s\n",
      "Preacceleration Process:  19%|███▌               | 7/37 [00:32<03:19,  6.64s/it]TimeSpent(function: deepl): 2.13s\n",
      "Preacceleration Process:  22%|████               | 8/37 [00:34<02:30,  5.20s/it]TimeSpent(function: elia): 1.95s\n",
      "Preacceleration Process:  24%|████▌              | 9/37 [00:36<01:57,  4.19s/it]TimeSpent(function: google): 1.02s\n",
      "Preacceleration Process:  27%|████▊             | 10/37 [00:37<01:26,  3.21s/it]TimeSpent(function: hujiang): 1.27s\n",
      "Preacceleration Process:  35%|██████▎           | 13/37 [03:04<18:10, 45.44s/it]TimeSpent(function: iflyrec): 3.76s\n",
      "Preacceleration Process:  43%|███████▊          | 16/37 [04:24<13:33, 38.74s/it]TimeSpent(function: languageWire): 2.33s\n",
      "Preacceleration Process:  51%|█████████▏        | 19/37 [04:35<04:49, 16.11s/it]TimeSpent(function: mglip): 1.27s\n",
      "Preacceleration Process:  57%|██████████▏       | 21/37 [04:40<02:30,  9.38s/it]TimeSpent(function: modernMt): 1.9s\n",
      "Preacceleration Process:  59%|██████████▋       | 22/37 [04:42<01:47,  7.14s/it]TimeSpent(function: myMemory): 2.19s\n",
      "Preacceleration Process:  62%|███████████▏      | 23/37 [04:44<01:19,  5.65s/it]TimeSpent(function: papago): 3.65s\n",
      "Preacceleration Process:  68%|████████████▏     | 25/37 [04:49<00:48,  4.03s/it]TimeSpent(function: qqTranSmart): 5.11s\n",
      "Preacceleration Process:  73%|█████████████▏    | 27/37 [04:56<00:36,  3.63s/it]TimeSpent(function: sogou): 3.39s\n",
      "Preacceleration Process:  76%|█████████████▌    | 28/37 [05:00<00:31,  3.56s/it]TimeSpent(function: sysTran): 6.02s\n",
      "Preacceleration Process:  81%|██████████████▌   | 30/37 [05:09<00:27,  3.90s/it]TimeSpent(function: translateCom): 1.55s\n",
      "Preacceleration Process:  92%|████████████████▌ | 34/37 [05:17<00:07,  2.59s/it]TimeSpent(function: yandex): 1.9s\n",
      "Preacceleration Process:  97%|████████████████▌| 36/37 [12:45<02:15, 135.65s/it]TimeSpent(function: youdao): 5.02s\n",
      "Preacceleration Process: 100%|██████████████████| 37/37 [12:50<00:00, 20.84s/it]\n",
      "\n",
      "\n",
      "SpeedTest-Process will take a few seconds.\n",
      "\n",
      "SpeedTest Process:   0%|                                 | 0/20 [00:00<?, ?it/s]TimeSpent(function: alibaba): 2.96s\n",
      "SpeedTest Process:   5%|█▎                       | 1/20 [00:02<00:56,  2.96s/it]TimeSpent(function: apertium): 0.48s\n",
      "SpeedTest Process:  10%|██▌                      | 2/20 [00:03<00:27,  1.50s/it]TimeSpent(function: baidu): 0.84s\n",
      "SpeedTest Process:  15%|███▊                     | 3/20 [00:04<00:20,  1.20s/it]TimeSpent(function: cloudTranslation): 4.16s\n",
      "SpeedTest Process:  20%|█████                    | 4/20 [00:08<00:37,  2.37s/it]TimeSpent(function: deepl): 0.95s\n",
      "SpeedTest Process:  25%|██████▎                  | 5/20 [00:09<00:27,  1.86s/it]TimeSpent(function: elia): 1.75s\n",
      "SpeedTest Process:  30%|███████▌                 | 6/20 [00:11<00:25,  1.82s/it]TimeSpent(function: google): 0.34s\n",
      "SpeedTest Process:  35%|████████▊                | 7/20 [00:11<00:17,  1.34s/it]TimeSpent(function: hujiang): 1.05s\n",
      "SpeedTest Process:  40%|██████████               | 8/20 [00:12<00:14,  1.25s/it]TimeSpent(function: iflyrec): 2.5s\n",
      "SpeedTest Process:  45%|███████████▎             | 9/20 [00:15<00:18,  1.64s/it]TimeSpent(function: languageWire): 0.43s\n",
      "SpeedTest Process:  50%|████████████            | 10/20 [00:15<00:12,  1.27s/it]TimeSpent(function: mglip): 0.49s\n",
      "SpeedTest Process:  55%|█████████████▏          | 11/20 [00:15<00:09,  1.03s/it]TimeSpent(function: modernMt): 1.49s\n",
      "SpeedTest Process:  60%|██████████████▍         | 12/20 [00:17<00:09,  1.17s/it]TimeSpent(function: myMemory): 0.93s\n",
      "SpeedTest Process:  65%|███████████████▌        | 13/20 [00:18<00:07,  1.10s/it]TimeSpent(function: papago): 2.08s\n",
      "SpeedTest Process:  70%|████████████████▊       | 14/20 [00:20<00:08,  1.40s/it]TimeSpent(function: qqTranSmart): 2.21s\n",
      "SpeedTest Process:  75%|██████████████████      | 15/20 [00:22<00:08,  1.64s/it]TimeSpent(function: sogou): 1.07s\n",
      "SpeedTest Process:  80%|███████████████████▏    | 16/20 [00:23<00:05,  1.47s/it]TimeSpent(function: sysTran): 0.64s\n",
      "SpeedTest Process:  85%|████████████████████▍   | 17/20 [00:24<00:03,  1.22s/it]TimeSpent(function: translateCom): 0.75s\n",
      "SpeedTest Process:  90%|█████████████████████▌  | 18/20 [00:25<00:02,  1.08s/it]TimeSpent(function: yandex): 0.49s\n",
      "SpeedTest Process:  95%|██████████████████████▊ | 19/20 [00:25<00:00,  1.11it/s]TimeSpent(function: youdao): 1.01s\n",
      "SpeedTest Process: 100%|████████████████████████| 20/20 [00:26<00:00,  1.33s/it]\n"
     ]
    }
   ],
   "source": [
    "import translators as ts\n",
    "\n",
    "\n",
    "_ = ts.preaccelerate_and_speedtest()  # Optional. Caching sessions in advance, which can help improve access speed."
   ]
  },
  {
   "cell_type": "code",
   "execution_count": 2,
   "metadata": {},
   "outputs": [
    {
     "data": {
      "text/plain": [
       "'Abdi damel di daérah Jakarta'"
      ]
     },
     "execution_count": 2,
     "metadata": {},
     "output_type": "execute_result"
    }
   ],
   "source": [
    "ts.translate_text(\"Saya bekerja di daerah Jakarta\", from_language='id', to_language='su', translator='google')"
   ]
  },
  {
   "cell_type": "code",
   "execution_count": null,
   "metadata": {},
   "outputs": [],
   "source": []
  }
 ],
 "metadata": {
  "kernelspec": {
   "display_name": "local_cloze",
   "language": "python",
   "name": "python3"
  },
  "language_info": {
   "codemirror_mode": {
    "name": "ipython",
    "version": 3
   },
   "file_extension": ".py",
   "mimetype": "text/x-python",
   "name": "python",
   "nbconvert_exporter": "python",
   "pygments_lexer": "ipython3",
   "version": "3.10.14"
  }
 },
 "nbformat": 4,
 "nbformat_minor": 2
}
