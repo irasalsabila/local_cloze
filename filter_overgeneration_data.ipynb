{
 "cells": [
  {
   "cell_type": "code",
   "execution_count": 1,
   "metadata": {},
   "outputs": [
    {
     "name": "stdout",
     "output_type": "stream",
     "text": [
      "su_rplus.csv\n",
      "generated (1275, 4)\n",
      "Initial amount  (1275, 4)\n",
      "Remove duplication (including ICL echoing):  (1275, 7)\n",
      "Remove broken examples: (1071, 7)\n",
      "su_gemma2.csv\n",
      "generated (2416, 4)\n",
      "Initial amount  (2416, 4)\n",
      "Remove duplication (including ICL echoing):  (2416, 7)\n",
      "Remove broken examples: (1604, 7)\n",
      "su_claude.csv\n",
      "generated (1924, 4)\n",
      "Initial amount  (1924, 4)\n",
      "Remove duplication (including ICL echoing):  (1922, 7)\n",
      "Remove broken examples: (1911, 7)\n",
      "su_gpt4o.csv\n",
      "generated (1050, 4)\n",
      "Initial amount  (1050, 4)\n",
      "Remove duplication (including ICL echoing):  (1050, 7)\n",
      "Remove broken examples: (1039, 7)\n",
      "su_mixtral.csv\n",
      "generated (2449, 4)\n",
      "Initial amount  (2449, 4)\n",
      "Remove duplication (including ICL echoing):  (2449, 7)\n",
      "Remove broken examples: (1508, 7)\n",
      "su_llama.csv\n",
      "generated (3016, 4)\n",
      "Initial amount  (3016, 4)\n",
      "Remove duplication (including ICL echoing):  (2934, 7)\n",
      "Remove broken examples: (2522, 7)\n"
     ]
    }
   ],
   "source": [
    "import os\n",
    "import pandas as pd\n",
    "from src.filter_overgeneration import filter_heuristics\n",
    "\n",
    "\n",
    "df_icl = pd.read_csv('dataset/icl_sundanese.csv')\n",
    "for file in os.listdir('dataset/overgeneration_raw'):\n",
    "    if file.endswith('.csv'):\n",
    "        print(file)\n",
    "        df = pd.read_csv(f'dataset/overgeneration_raw/{file}')\n",
    "        print(\"generated\", df.shape)\n",
    "        df = filter_heuristics(df, df_icl)\n",
    "        df.to_csv(f'dataset/train/{file}', index=False)\n"
   ]
  },
  {
   "cell_type": "code",
   "execution_count": 4,
   "metadata": {},
   "outputs": [
    {
     "name": "stdout",
     "output_type": "stream",
     "text": [
      "jv_llama.csv\n",
      "generated (1972, 4)\n",
      "Initial amount  (1972, 4)\n",
      "Remove duplication (including ICL echoing):  (1804, 7)\n",
      "Remove broken examples: (1605, 7)\n",
      "jv_rplus.csv\n",
      "generated (2144, 4)\n",
      "Initial amount  (2144, 4)\n",
      "Remove duplication (including ICL echoing):  (2142, 7)\n",
      "Remove broken examples: (1946, 7)\n",
      "jv_gpt4o.csv\n",
      "generated (5947, 4)\n",
      "Initial amount  (5947, 4)\n",
      "Remove duplication (including ICL echoing):  (5936, 7)\n",
      "Remove broken examples: (5893, 7)\n",
      "jv_claude.csv\n",
      "generated (2062, 4)\n",
      "Initial amount  (2062, 4)\n",
      "Remove duplication (including ICL echoing):  (2062, 7)\n",
      "Remove broken examples: (2050, 7)\n",
      "jv_mixtral.csv\n",
      "generated (3554, 4)\n",
      "Initial amount  (3554, 4)\n",
      "Remove duplication (including ICL echoing):  (3486, 7)\n",
      "Remove broken examples: (1920, 7)\n",
      "jv_gemma2.csv\n",
      "generated (4709, 4)\n",
      "Initial amount  (4709, 4)\n",
      "Remove duplication (including ICL echoing):  (4708, 7)\n",
      "Remove broken examples: (3812, 7)\n"
     ]
    }
   ],
   "source": [
    "import os\n",
    "import pandas as pd\n",
    "from src.filter_overgeneration import filter_heuristics\n",
    "\n",
    "df_icl = pd.read_csv('dataset/icl_javanese.csv')\n",
    "for file in os.listdir('dataset/overgeneration_raw'):\n",
    "    if file.startswith('jv_') and file.endswith('.csv'):\n",
    "        print(file)\n",
    "        df = pd.read_csv(f'dataset/overgeneration_raw/{file}')\n",
    "        print(\"generated\", df.shape)\n",
    "        df = filter_heuristics(df, df_icl)\n",
    "        df.to_csv(f'dataset/train/{file}', index=False)"
   ]
  },
  {
   "cell_type": "code",
   "execution_count": 5,
   "metadata": {},
   "outputs": [
    {
     "name": "stdout",
     "output_type": "stream",
     "text": [
      "File: jv_llama.csv - Number of unique words: 5291, Average words per sentence: 4.90\n",
      "File: jv_rplus.csv - Number of unique words: 5771, Average words per sentence: 4.84\n",
      "File: jv_gpt4o.csv - Number of unique words: 11574, Average words per sentence: 5.33\n",
      "File: jv_claude.csv - Number of unique words: 7108, Average words per sentence: 5.35\n",
      "File: jv_mixtral.csv - Number of unique words: 10882, Average words per sentence: 4.76\n",
      "File: jv_gemma2.csv - Number of unique words: 11006, Average words per sentence: 5.28\n"
     ]
    }
   ],
   "source": [
    "import os\n",
    "import pandas as pd\n",
    "\n",
    "for file in os.listdir('dataset/overgeneration_raw'):\n",
    "    if file.startswith('jv_') and file.endswith('.csv'):\n",
    "        df = pd.read_csv(f'dataset/train/{file}')\n",
    "        \n",
    "        unique_words = set()\n",
    "        total_words = 0\n",
    "        total_sentences = 0\n",
    "        \n",
    "        for column in df.columns:\n",
    "            for text in df[column].dropna(): \n",
    "                words = str(text).split()\n",
    "                unique_words.update(words)  \n",
    "                \n",
    "                sentences = str(text).split('.') \n",
    "                total_sentences += len(sentences) \n",
    "                \n",
    "                for sentence in sentences:\n",
    "                    words_in_sentence = sentence.split()  \n",
    "                    total_words += len(words_in_sentence) \n",
    "        \n",
    "        num_unique_words = len(unique_words)\n",
    "        avg_words_per_sentence = total_words / total_sentences if total_sentences > 0 else 0\n",
    "        \n",
    "        print(f'File: {file} - Number of unique words: {num_unique_words}, Average words per sentence: {avg_words_per_sentence:.2f}')"
   ]
  },
  {
   "cell_type": "code",
   "execution_count": null,
   "metadata": {},
   "outputs": [],
   "source": []
  }
 ],
 "metadata": {
  "kernelspec": {
   "display_name": "Python 3",
   "language": "python",
   "name": "python3"
  },
  "language_info": {
   "codemirror_mode": {
    "name": "ipython",
    "version": 3
   },
   "file_extension": ".py",
   "mimetype": "text/x-python",
   "name": "python",
   "nbconvert_exporter": "python",
   "pygments_lexer": "ipython3",
   "version": "3.9.6"
  }
 },
 "nbformat": 4,
 "nbformat_minor": 2
}
