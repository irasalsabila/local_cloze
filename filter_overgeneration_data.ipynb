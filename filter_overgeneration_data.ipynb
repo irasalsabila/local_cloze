{
 "cells": [
  {
   "cell_type": "code",
   "execution_count": 1,
   "metadata": {},
   "outputs": [
    {
     "name": "stdout",
     "output_type": "stream",
     "text": [
      "su_rplus.csv\n",
      "generated (1275, 4)\n",
      "Initial amount  (1275, 4)\n",
      "Remove duplication (including ICL echoing):  (1275, 7)\n",
      "Remove broken examples: (1069, 7)\n",
      "jv_llama.csv\n",
      "generated (1972, 4)\n",
      "Initial amount  (1972, 4)\n",
      "Remove duplication (including ICL echoing):  (1804, 7)\n",
      "Remove broken examples: (1599, 7)\n",
      "su_gemma2.csv\n",
      "generated (2416, 4)\n",
      "Initial amount  (2416, 4)\n",
      "Remove duplication (including ICL echoing):  (2416, 7)\n",
      "Remove broken examples: (1599, 7)\n",
      "su_claude.csv\n",
      "generated (1924, 4)\n",
      "Initial amount  (1924, 4)\n",
      "Remove duplication (including ICL echoing):  (1922, 7)\n",
      "Remove broken examples: (1911, 7)\n",
      "su_gpt4o.csv\n",
      "generated (1050, 4)\n",
      "Initial amount  (1050, 4)\n",
      "Remove duplication (including ICL echoing):  (1050, 7)\n",
      "Remove broken examples: (1037, 7)\n",
      "su_mixtral.csv\n",
      "generated (2449, 4)\n",
      "Initial amount  (2449, 4)\n",
      "Remove duplication (including ICL echoing):  (2449, 7)\n",
      "Remove broken examples: (1438, 7)\n",
      "su_llama.csv\n",
      "generated (3016, 4)\n",
      "Initial amount  (3016, 4)\n",
      "Remove duplication (including ICL echoing):  (2934, 7)\n",
      "Remove broken examples: (2521, 7)\n",
      "jv_rplus.csv\n",
      "generated (2144, 4)\n",
      "Initial amount  (2144, 4)\n",
      "Remove duplication (including ICL echoing):  (2142, 7)\n",
      "Remove broken examples: (1922, 7)\n",
      "jv_gpt4o.csv\n",
      "generated (5947, 4)\n",
      "Initial amount  (5947, 4)\n",
      "Remove duplication (including ICL echoing):  (5936, 7)\n",
      "Remove broken examples: (5892, 7)\n",
      "jv_claude.csv\n",
      "generated (2062, 4)\n",
      "Initial amount  (2062, 4)\n",
      "Remove duplication (including ICL echoing):  (2062, 7)\n",
      "Remove broken examples: (2050, 7)\n",
      "jv_mixtral.csv\n",
      "generated (3554, 4)\n",
      "Initial amount  (3554, 4)\n",
      "Remove duplication (including ICL echoing):  (3486, 7)\n",
      "Remove broken examples: (1843, 7)\n",
      "jv_gemma2.csv\n",
      "generated (4709, 4)\n",
      "Initial amount  (4709, 4)\n",
      "Remove duplication (including ICL echoing):  (4708, 7)\n",
      "Remove broken examples: (3795, 7)\n"
     ]
    }
   ],
   "source": [
    "import os\n",
    "import pandas as pd\n",
    "from src.filter_overgeneration import filter_heuristics\n",
    "\n",
    "\n",
    "df_icl = pd.read_csv('dataset/icl_sundanese.csv')\n",
    "for file in os.listdir('dataset/overgeneration_raw'):\n",
    "    if file.endswith('.csv'):\n",
    "        print(file)\n",
    "        df = pd.read_csv(f'dataset/overgeneration_raw/{file}')\n",
    "        print(\"generated\", df.shape)\n",
    "        df = filter_heuristics(df, df_icl)\n",
    "        df.to_csv(f'dataset/train/full/{file}', index=False)\n"
   ]
  },
  {
   "cell_type": "code",
   "execution_count": 2,
   "metadata": {},
   "outputs": [
    {
     "name": "stdout",
     "output_type": "stream",
     "text": [
      "jv_llama.csv\n",
      "generated (1972, 4)\n",
      "Initial amount  (1972, 4)\n",
      "Remove duplication (including ICL echoing):  (1804, 7)\n",
      "Remove broken examples: (1599, 7)\n",
      "jv_rplus.csv\n",
      "generated (2144, 4)\n",
      "Initial amount  (2144, 4)\n",
      "Remove duplication (including ICL echoing):  (2142, 7)\n",
      "Remove broken examples: (1922, 7)\n",
      "jv_gpt4o.csv\n",
      "generated (5947, 4)\n",
      "Initial amount  (5947, 4)\n",
      "Remove duplication (including ICL echoing):  (5936, 7)\n",
      "Remove broken examples: (5892, 7)\n",
      "jv_claude.csv\n",
      "generated (2062, 4)\n",
      "Initial amount  (2062, 4)\n",
      "Remove duplication (including ICL echoing):  (2062, 7)\n",
      "Remove broken examples: (2050, 7)\n",
      "jv_mixtral.csv\n",
      "generated (3554, 4)\n",
      "Initial amount  (3554, 4)\n",
      "Remove duplication (including ICL echoing):  (3486, 7)\n",
      "Remove broken examples: (1843, 7)\n",
      "jv_gemma2.csv\n",
      "generated (4709, 4)\n",
      "Initial amount  (4709, 4)\n",
      "Remove duplication (including ICL echoing):  (4708, 7)\n",
      "Remove broken examples: (3795, 7)\n"
     ]
    }
   ],
   "source": [
    "import os\n",
    "import pandas as pd\n",
    "from src.filter_overgeneration import filter_heuristics\n",
    "\n",
    "df_icl = pd.read_csv('dataset/icl_javanese.csv')\n",
    "for file in os.listdir('dataset/overgeneration_raw'):\n",
    "    if file.startswith('jv_') and file.endswith('.csv'):\n",
    "        print(file)\n",
    "        df = pd.read_csv(f'dataset/overgeneration_raw/{file}')\n",
    "        print(\"generated\", df.shape)\n",
    "        df = filter_heuristics(df, df_icl)\n",
    "        df.to_csv(f'dataset/train/full/{file}', index=False)"
   ]
  },
  {
   "cell_type": "code",
   "execution_count": null,
   "metadata": {},
   "outputs": [],
   "source": []
  }
 ],
 "metadata": {
  "kernelspec": {
   "display_name": "Python 3",
   "language": "python",
   "name": "python3"
  },
  "language_info": {
   "codemirror_mode": {
    "name": "ipython",
    "version": 3
   },
   "file_extension": ".py",
   "mimetype": "text/x-python",
   "name": "python",
   "nbconvert_exporter": "python",
   "pygments_lexer": "ipython3",
   "version": "3.9.6"
  }
 },
 "nbformat": 4,
 "nbformat_minor": 2
}
