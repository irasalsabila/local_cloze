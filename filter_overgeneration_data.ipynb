{
 "cells": [
  {
   "cell_type": "code",
   "execution_count": 1,
   "metadata": {},
   "outputs": [],
   "source": [
    "import os\n",
    "import pandas as pd\n",
    "from src.filter_overgeneration import filter_heuristics\n",
    "\n",
    "\n",
    "df_icl = pd.read_csv('dataset/icl_sundanese.csv')\n",
    "for file in os.listdir('dataset/overgeneration_raw'):\n",
    "    if file.endswith('.csv'):\n",
    "        df = pd.read_csv(f'dataset/overgeneration_raw/{file}')\n",
    "        df = filter_heuristics(df, df_icl)\n",
    "        df.to_csv(f'dataset/train/{file}', index=False)\n"
   ]
  },
  {
   "cell_type": "code",
   "execution_count": null,
   "metadata": {},
   "outputs": [],
   "source": []
  }
 ],
 "metadata": {
  "kernelspec": {
   "display_name": "Python 3",
   "language": "python",
   "name": "python3"
  },
  "language_info": {
   "codemirror_mode": {
    "name": "ipython",
    "version": 3
   },
   "file_extension": ".py",
   "mimetype": "text/x-python",
   "name": "python",
   "nbconvert_exporter": "python",
   "pygments_lexer": "ipython3",
   "version": "3.10.14"
  }
 },
 "nbformat": 4,
 "nbformat_minor": 2
}
