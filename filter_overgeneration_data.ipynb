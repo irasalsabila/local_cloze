{
 "cells": [
  {
   "cell_type": "code",
   "execution_count": 1,
   "metadata": {},
   "outputs": [],
   "source": [
    "import os\n",
    "import pandas as pd\n",
    "from src.filter_overgeneration import filter_heuristics\n",
    "\n",
    "\n",
    "df_icl = pd.read_csv('dataset/icl_sundanese.csv')\n",
    "for file in os.listdir('dataset/overgeneration_raw'):\n",
    "    if file.endswith('.csv'):\n",
    "        df = pd.read_csv(f'dataset/overgeneration_raw/{file}')\n",
    "        df = filter_heuristics(df, df_icl)\n",
    "        df.to_csv(f'dataset/train/{file}', index=False)\n"
   ]
  },
  {
   "cell_type": "code",
   "execution_count": 6,
   "metadata": {},
   "outputs": [],
   "source": [
    "import os\n",
    "import pandas as pd\n",
    "from src.filter_overgeneration import filter_heuristics\n",
    "\n",
    "\n",
    "df_icl = pd.read_csv('dataset/icl_javanese.csv')\n",
    "for file in os.listdir('dataset/overgeneration_raw'):\n",
    "    if file.startswith('jv_') and file.endswith('.csv'):\n",
    "        df = pd.read_csv(f'dataset/overgeneration_raw/{file}')\n",
    "        df = filter_heuristics(df, df_icl)\n",
    "        df.to_csv(f'dataset/train/{file}', index=False)\n"
   ]
  },
  {
   "cell_type": "code",
   "execution_count": 10,
   "metadata": {},
   "outputs": [
    {
     "name": "stdout",
     "output_type": "stream",
     "text": [
      "File: jv_llama.csv - Number of unique words: 5925, Average words per sentence: 4.42\n",
      "File: jv_rplus.csv - Number of unique words: 4264, Average words per sentence: 4.40\n",
      "File: jv_gpt4o.csv - Number of unique words: 12568, Average words per sentence: 4.79\n",
      "File: jv_claude.csv - Number of unique words: 7727, Average words per sentence: 4.82\n",
      "File: jv_mixtral.csv - Number of unique words: 17538, Average words per sentence: 4.53\n",
      "File: jv_gemma2.csv - Number of unique words: 13190, Average words per sentence: 4.75\n"
     ]
    }
   ],
   "source": [
    "import os\n",
    "import pandas as pd\n",
    "\n",
    "for file in os.listdir('dataset/overgeneration_raw'):\n",
    "    if file.startswith('jv_') and file.endswith('.csv'):\n",
    "        df = pd.read_csv(f'dataset/overgeneration_raw/{file}')\n",
    "        \n",
    "        unique_words = set()\n",
    "        total_words = 0\n",
    "        total_sentences = 0\n",
    "        \n",
    "        for column in df.columns:\n",
    "            for text in df[column].dropna(): \n",
    "                words = str(text).split()\n",
    "                unique_words.update(words)  \n",
    "                \n",
    "                sentences = str(text).split('.') \n",
    "                total_sentences += len(sentences) \n",
    "                \n",
    "                for sentence in sentences:\n",
    "                    words_in_sentence = sentence.split()  \n",
    "                    total_words += len(words_in_sentence) \n",
    "        \n",
    "        num_unique_words = len(unique_words)\n",
    "        avg_words_per_sentence = total_words / total_sentences if total_sentences > 0 else 0\n",
    "        \n",
    "        print(f'File: {file} - Number of unique words: {num_unique_words}, Average words per sentence: {avg_words_per_sentence:.2f}')"
   ]
  },
  {
   "cell_type": "code",
   "execution_count": null,
   "metadata": {},
   "outputs": [],
   "source": []
  }
 ],
 "metadata": {
  "kernelspec": {
   "display_name": "Python 3",
   "language": "python",
   "name": "python3"
  },
  "language_info": {
   "codemirror_mode": {
    "name": "ipython",
    "version": 3
   },
   "file_extension": ".py",
   "mimetype": "text/x-python",
   "name": "python",
   "nbconvert_exporter": "python",
   "pygments_lexer": "ipython3",
   "version": "3.9.6"
  }
 },
 "nbformat": 4,
 "nbformat_minor": 2
}
