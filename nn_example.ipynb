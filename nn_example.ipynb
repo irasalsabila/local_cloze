{
 "cells": [
  {
   "cell_type": "code",
   "execution_count": 2,
   "metadata": {},
   "outputs": [],
   "source": [
    "import pandas as pd\n",
    "\n",
    "df_indo_cloze = pd.read_csv('dataset/indo_story_cloze/train.csv')\n",
    "df_indo_cloze['Kalimat-1'] = df_indo_cloze['Kalimat-1'].apply(lambda x: x.strip()+'.' if not x.endswith('.') else x.strip())\n",
    "df_indo_cloze['Kalimat-2'] = df_indo_cloze['Kalimat-2'].apply(lambda x: x.strip()+'.' if not x.endswith('.') else x.strip())\n",
    "df_indo_cloze['Kalimat-3'] = df_indo_cloze['Kalimat-3'].apply(lambda x: x.strip()+'.' if not x.endswith('.') else x.strip())\n",
    "df_indo_cloze['Kalimat-4'] = df_indo_cloze['Kalimat-4'].apply(lambda x: x.strip()+'.' if not x.endswith('.') else x.strip())\n",
    "sentences = [' '.join([row['Kalimat-1'], row['Kalimat-2'], row['Kalimat-3'], row['Kalimat-4']]).strip() for _, row in df_indo_cloze.iterrows()]"
   ]
  },
  {
   "cell_type": "code",
   "execution_count": 5,
   "metadata": {},
   "outputs": [],
   "source": [
    "import fasttext\n",
    "\n",
    "fasttext_model = fasttext.load_model(\"src/classifier/cc.su.300.bin\")"
   ]
  },
  {
   "cell_type": "code",
   "execution_count": 6,
   "metadata": {},
   "outputs": [],
   "source": [
    "import numpy as np\n",
    "wvs = np.array([fasttext_model.get_sentence_vector(s) for s in sentences]).astype('float32')\n",
    "nb, d = wvs.shape"
   ]
  },
  {
   "cell_type": "code",
   "execution_count": 9,
   "metadata": {},
   "outputs": [
    {
     "data": {
      "text/plain": [
       "1000"
      ]
     },
     "execution_count": 9,
     "metadata": {},
     "output_type": "execute_result"
    }
   ],
   "source": [
    "fasttext_model.get_word_vector"
   ]
  },
  {
   "cell_type": "code",
   "execution_count": 7,
   "metadata": {},
   "outputs": [
    {
     "data": {
      "text/plain": [
       "(1, 300)"
      ]
     },
     "execution_count": 7,
     "metadata": {},
     "output_type": "execute_result"
    }
   ],
   "source": [
    "fasttext_model.get_sentence_vector(sentences[0]).reshape(1, 300).shape"
   ]
  },
  {
   "cell_type": "code",
   "execution_count": 55,
   "metadata": {},
   "outputs": [
    {
     "name": "stdout",
     "output_type": "stream",
     "text": [
      "Nearest Neighbors' Indices: [[  0 167 971 801 261]]\n",
      "Distances to Nearest Neighbors: [[0.         0.06550813 0.06598757 0.06913473 0.07065826]]\n"
     ]
    }
   ],
   "source": [
    "# import numpy as np\n",
    "import faiss\n",
    "\n",
    "# # Step 1: Create some random data (e.g., 1000 vectors of 128 dimensions)\n",
    "# d = 128  # dimension\n",
    "# nb = 1000  # number of vectors\n",
    "# np.random.seed(123)  # for reproducibility\n",
    "# data = np.random.random((nb, d)).astype('float32')\n",
    "\n",
    "# Step 2: Build the index\n",
    "index = faiss.IndexFlatL2(d)  # L2 distance\n",
    "index.add(wvs)  # add vectors to the index\n",
    "\n",
    "# Step 3: Prepare a query vector\n",
    "nq = 1  # number of queries\n",
    "# query_vector = np.random.random((nq, d)).astype('float32')\n",
    "query_vector = fasttext_model.get_sentence_vector(sentences[0]).astype('float32').reshape(1, d)\n",
    "\n",
    "# Step 4: Search for the nearest neighbors\n",
    "k = 5  # number of nearest neighbors\n",
    "distances, indices = index.search(query_vector, k)\n",
    "\n",
    "# Output the results\n",
    "print(\"Nearest Neighbors' Indices:\", indices)\n",
    "print(\"Distances to Nearest Neighbors:\", distances)"
   ]
  },
  {
   "cell_type": "code",
   "execution_count": null,
   "metadata": {},
   "outputs": [],
   "source": []
  }
 ],
 "metadata": {
  "kernelspec": {
   "display_name": "local_cloze",
   "language": "python",
   "name": "python3"
  },
  "language_info": {
   "codemirror_mode": {
    "name": "ipython",
    "version": 3
   },
   "file_extension": ".py",
   "mimetype": "text/x-python",
   "name": "python",
   "nbconvert_exporter": "python",
   "pygments_lexer": "ipython3",
   "version": "3.10.14"
  }
 },
 "nbformat": 4,
 "nbformat_minor": 2
}
