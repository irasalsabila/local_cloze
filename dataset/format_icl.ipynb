{
 "cells": [
  {
   "cell_type": "code",
   "execution_count": 1,
   "metadata": {},
   "outputs": [],
   "source": [
    "def format_examples(df):\n",
    "    df['Kalimah-1'] = df['Kalimah-1'].apply(lambda x: x.strip()+'.' if not x.endswith('.') else x.strip())\n",
    "    df['Kalimah-2'] = df['Kalimah-2'].apply(lambda x: x.strip()+'.' if not x.endswith('.') else x.strip())\n",
    "    df['Kalimah-3'] = df['Kalimah-3'].apply(lambda x: x.strip()+'.' if not x.endswith('.') else x.strip())\n",
    "    df['Kalimah-4'] = df['Kalimah-4'].apply(lambda x: x.strip()+'.' if not x.endswith('.') else x.strip())\n",
    "    premises = [' '.join([row['Kalimah-1'], row['Kalimah-2'], row['Kalimah-3'], row['Kalimah-4']]).strip() for _, row in df.iterrows()]\n",
    "    wrong_endings = df['Ending salah'].to_list()\n",
    "    correct_endings = df['Ending Bener'].to_list()\n",
    "    return [{\"story_premise\": p, \"wrong_ending\": w, \"correct_ending\": c} for p, w, c in zip(premises, wrong_endings, correct_endings)]\n",
    "\n",
    "\n",
    "import pandas as pd\n",
    "sundanese_examples = format_examples(pd.read_csv('icl_sundanese.csv'))"
   ]
  },
  {
   "cell_type": "code",
   "execution_count": 2,
   "metadata": {},
   "outputs": [],
   "source": [
    "import pickle as pkl\n",
    "\n",
    "pkl.dump(sundanese_examples, open(\"../src/icl_sundanese.pkl\", 'wb'))"
   ]
  },
  {
   "cell_type": "code",
   "execution_count": null,
   "metadata": {},
   "outputs": [],
   "source": []
  }
 ],
 "metadata": {
  "kernelspec": {
   "display_name": "local_cloze",
   "language": "python",
   "name": "python3"
  },
  "language_info": {
   "codemirror_mode": {
    "name": "ipython",
    "version": 3
   },
   "file_extension": ".py",
   "mimetype": "text/x-python",
   "name": "python",
   "nbconvert_exporter": "python",
   "pygments_lexer": "ipython3",
   "version": "3.10.14"
  }
 },
 "nbformat": 4,
 "nbformat_minor": 2
}
