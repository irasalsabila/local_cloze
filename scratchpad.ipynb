{
 "cells": [
  {
   "cell_type": "code",
   "execution_count": 2,
   "metadata": {},
   "outputs": [
    {
     "name": "stderr",
     "output_type": "stream",
     "text": [
      "2025-05-23 08:05:48.027001: E external/local_xla/xla/stream_executor/cuda/cuda_fft.cc:467] Unable to register cuFFT factory: Attempting to register factory for plugin cuFFT when one has already been registered\n",
      "WARNING: All log messages before absl::InitializeLog() is called are written to STDERR\n",
      "E0000 00:00:1747973148.041911 2874480 cuda_dnn.cc:8579] Unable to register cuDNN factory: Attempting to register factory for plugin cuDNN when one has already been registered\n",
      "E0000 00:00:1747973148.046460 2874480 cuda_blas.cc:1407] Unable to register cuBLAS factory: Attempting to register factory for plugin cuBLAS when one has already been registered\n",
      "W0000 00:00:1747973148.058033 2874480 computation_placer.cc:177] computation placer already registered. Please check linkage and avoid linking the same target more than once.\n",
      "W0000 00:00:1747973148.058047 2874480 computation_placer.cc:177] computation placer already registered. Please check linkage and avoid linking the same target more than once.\n",
      "W0000 00:00:1747973148.058049 2874480 computation_placer.cc:177] computation placer already registered. Please check linkage and avoid linking the same target more than once.\n",
      "W0000 00:00:1747973148.058050 2874480 computation_placer.cc:177] computation placer already registered. Please check linkage and avoid linking the same target more than once.\n",
      "2025-05-23 08:05:48.062049: I tensorflow/core/platform/cpu_feature_guard.cc:210] This TensorFlow binary is optimized to use available CPU instructions in performance-critical operations.\n",
      "To enable the following instructions: AVX2 FMA, in other operations, rebuild TensorFlow with the appropriate compiler flags.\n"
     ]
    }
   ],
   "source": [
    "import pandas as pd\n",
    "from evaluate import load\n",
    "rouge = load('rouge')\n",
    "bertscore = load(\"bertscore\")"
   ]
  },
  {
   "cell_type": "code",
   "execution_count": 34,
   "metadata": {},
   "outputs": [],
   "source": [
    "method = 'sft'\n",
    "model_list = [\n",
    "    # 'Qwen2.5-7B-Instruct', \n",
    "    # 'Llama-3.1-8B-Instruct',\n",
    "    # 'gemma-2-9b-it', \n",
    "    # 'llama3-8b-cpt-sahabatai-v1-instruct', \n",
    "    'Llama-SEA-LION-v3-8B-IT'\n",
    "]\n",
    "train_set = 'jvsu_llm_filtered'\n",
    "language = 'jv'\n",
    "\n",
    "rouge_scores = []\n",
    "bertscores = []\n",
    "for model in model_list:\n",
    "    if method == 'sft':\n",
    "        df = pd.read_csv(f'src/generator/predictions/{method}/{model}_{train_set}.csv')\n",
    "        if language == 'jv':\n",
    "            df = df.iloc[:1094]\n",
    "        else:\n",
    "            df = df.iloc[1904:]\n",
    "    else:\n",
    "        df = pd.read_csv(f'src/generator/predictions/{method}/{model}_{language}.csv')\n",
    "    correct_endings = df['correct_ending'].to_list()\n",
    "    predicted_endings = df['predicted'].to_list()\n",
    "\n",
    "    rouge_score = rouge.compute(predictions=predicted_endings, references=correct_endings)\n",
    "\n",
    "    results = bertscore.compute(predictions=predicted_endings, references=correct_endings, model_type='bert-base-multilingual-cased')\n",
    "    def get_mean(l):\n",
    "        return sum(l) / len(l)\n",
    "    bert_score = {\n",
    "        \"precision\": get_mean(results['precision']),\n",
    "        \"recall\": get_mean(results['recall']),\n",
    "        \"f1\": get_mean(results['f1'])\n",
    "    }\n",
    "    rouge_scores.append(rouge_score['rougeL'])\n",
    "    bertscores.append(bert_score['f1'])"
   ]
  },
  {
   "cell_type": "code",
   "execution_count": 35,
   "metadata": {},
   "outputs": [
    {
     "name": "stdout",
     "output_type": "stream",
     "text": [
      "71.23 / 18.63\n"
     ]
    }
   ],
   "source": [
    "for bs, rl in zip(bertscores, rouge_scores):\n",
    "    print(f\"{bs*100:.2f} / {rl*100:.2f}\")"
   ]
  },
  {
   "cell_type": "code",
   "execution_count": null,
   "metadata": {},
   "outputs": [],
   "source": []
  }
 ],
 "metadata": {
  "kernelspec": {
   "display_name": "local_cloze",
   "language": "python",
   "name": "python3"
  },
  "language_info": {
   "codemirror_mode": {
    "name": "ipython",
    "version": 3
   },
   "file_extension": ".py",
   "mimetype": "text/x-python",
   "name": "python",
   "nbconvert_exporter": "python",
   "pygments_lexer": "ipython3",
   "version": "3.10.15"
  }
 },
 "nbformat": 4,
 "nbformat_minor": 2
}
