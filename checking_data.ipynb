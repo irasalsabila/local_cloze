{
 "cells": [
  {
   "cell_type": "code",
   "execution_count": 37,
   "metadata": {},
   "outputs": [
    {
     "data": {
      "text/plain": [
       "1077"
      ]
     },
     "execution_count": 37,
     "metadata": {},
     "output_type": "execute_result"
    }
   ],
   "source": [
    "import pandas as pd\n",
    "\n",
    "# Load the CSV file\n",
    "df = pd.read_csv('src/overgeneration_data/train_cohere_rplus_jv.csv')\n",
    "len(df)"
   ]
  },
  {
   "cell_type": "code",
   "execution_count": 38,
   "metadata": {},
   "outputs": [
    {
     "data": {
      "text/plain": [
       "1076"
      ]
     },
     "execution_count": 38,
     "metadata": {},
     "output_type": "execute_result"
    }
   ],
   "source": [
    "# 1. Remove duplicates\n",
    "df.drop_duplicates(inplace=True)\n",
    "len(df)"
   ]
  },
  {
   "cell_type": "code",
   "execution_count": 39,
   "metadata": {},
   "outputs": [
    {
     "data": {
      "text/html": [
       "<div>\n",
       "<style scoped>\n",
       "    .dataframe tbody tr th:only-of-type {\n",
       "        vertical-align: middle;\n",
       "    }\n",
       "\n",
       "    .dataframe tbody tr th {\n",
       "        vertical-align: top;\n",
       "    }\n",
       "\n",
       "    .dataframe thead th {\n",
       "        text-align: right;\n",
       "    }\n",
       "</style>\n",
       "<table border=\"1\" class=\"dataframe\">\n",
       "  <thead>\n",
       "    <tr style=\"text-align: right;\">\n",
       "      <th></th>\n",
       "      <th>topic</th>\n",
       "      <th>premise</th>\n",
       "      <th>correct_ending</th>\n",
       "      <th>incorrect_ending</th>\n",
       "      <th>kalimat_1</th>\n",
       "      <th>kalimat_2</th>\n",
       "      <th>kalimat_3</th>\n",
       "      <th>kalimat_4</th>\n",
       "    </tr>\n",
       "  </thead>\n",
       "  <tbody>\n",
       "    <tr>\n",
       "      <th>0</th>\n",
       "      <td>Food</td>\n",
       "      <td>Joko lan Yanto arep tuku oleh-oleh. Dheweke ar...</td>\n",
       "      <td>Dheweke arep tuku oleh-oleh lan mangan ing war...</td>\n",
       "      <td>Dheweke ora entuk oleh-oleh lan mangan ing war...</td>\n",
       "      <td>Joko lan Yanto arep tuku oleh-oleh</td>\n",
       "      <td>Dheweke arep mangan ing warung</td>\n",
       "      <td>Warunge wis tutup</td>\n",
       "      <td>Dheweke ora entuk oleh-oleh</td>\n",
       "    </tr>\n",
       "    <tr>\n",
       "      <th>1</th>\n",
       "      <td>Food</td>\n",
       "      <td>Sinta seneng mangan tempe. Dheweke arep tuku t...</td>\n",
       "      <td>Sinta tuku tempe ing pasar.</td>\n",
       "      <td>Sinta ora mangan tempe.</td>\n",
       "      <td>Sinta seneng mangan tempe</td>\n",
       "      <td>Dheweke arep tuku tempe</td>\n",
       "      <td>Tempe sing diwarunge wis habis</td>\n",
       "      <td>Sinta ora entuk tempe</td>\n",
       "    </tr>\n",
       "  </tbody>\n",
       "</table>\n",
       "</div>"
      ],
      "text/plain": [
       "  topic                                            premise  \\\n",
       "0  Food  Joko lan Yanto arep tuku oleh-oleh. Dheweke ar...   \n",
       "1  Food  Sinta seneng mangan tempe. Dheweke arep tuku t...   \n",
       "\n",
       "                                      correct_ending  \\\n",
       "0  Dheweke arep tuku oleh-oleh lan mangan ing war...   \n",
       "1                        Sinta tuku tempe ing pasar.   \n",
       "\n",
       "                                    incorrect_ending  \\\n",
       "0  Dheweke ora entuk oleh-oleh lan mangan ing war...   \n",
       "1                            Sinta ora mangan tempe.   \n",
       "\n",
       "                            kalimat_1                       kalimat_2  \\\n",
       "0  Joko lan Yanto arep tuku oleh-oleh  Dheweke arep mangan ing warung   \n",
       "1           Sinta seneng mangan tempe         Dheweke arep tuku tempe   \n",
       "\n",
       "                        kalimat_3                    kalimat_4  \n",
       "0               Warunge wis tutup  Dheweke ora entuk oleh-oleh  \n",
       "1  Tempe sing diwarunge wis habis        Sinta ora entuk tempe  "
      ]
     },
     "execution_count": 39,
     "metadata": {},
     "output_type": "execute_result"
    }
   ],
   "source": [
    "# Function to split premise into kalimat-1, kalimat-2, kalimat-3, kalimat-4\n",
    "def split_premise(premise):\n",
    "    if isinstance(premise, str):  # Ensure premise is a string\n",
    "        # Split based on the period (.)\n",
    "        sentences = premise.split('.')\n",
    "        \n",
    "        # Remove empty sentences or whitespace-only sentences\n",
    "        sentences = [sentence.strip() for sentence in sentences if sentence.strip()]\n",
    "\n",
    "        # If there are less than 4 sentences, pad with empty strings\n",
    "        while len(sentences) < 4:\n",
    "            sentences.append('')\n",
    "\n",
    "        # Return the first four sentences\n",
    "        return sentences[:4]\n",
    "    else:\n",
    "        # Return empty values if premise is not a valid string\n",
    "        return ['', '', '', '']\n",
    "\n",
    "# 2. Apply split function to premise and create new columns for kalimat-1 to kalimat-4\n",
    "df[['kalimat_1', 'kalimat_2', 'kalimat_3', 'kalimat_4']] = df['premise'].apply(split_premise).apply(pd.Series)\n",
    "\n",
    "df.head(2)"
   ]
  },
  {
   "cell_type": "code",
   "execution_count": 40,
   "metadata": {},
   "outputs": [
    {
     "data": {
      "text/plain": [
       "1076"
      ]
     },
     "execution_count": 40,
     "metadata": {},
     "output_type": "execute_result"
    }
   ],
   "source": [
    "len(df)"
   ]
  },
  {
   "cell_type": "code",
   "execution_count": 42,
   "metadata": {},
   "outputs": [
    {
     "data": {
      "text/html": [
       "<div>\n",
       "<style scoped>\n",
       "    .dataframe tbody tr th:only-of-type {\n",
       "        vertical-align: middle;\n",
       "    }\n",
       "\n",
       "    .dataframe tbody tr th {\n",
       "        vertical-align: top;\n",
       "    }\n",
       "\n",
       "    .dataframe thead th {\n",
       "        text-align: right;\n",
       "    }\n",
       "</style>\n",
       "<table border=\"1\" class=\"dataframe\">\n",
       "  <thead>\n",
       "    <tr style=\"text-align: right;\">\n",
       "      <th></th>\n",
       "      <th>topic</th>\n",
       "      <th>premise</th>\n",
       "      <th>correct_ending</th>\n",
       "      <th>incorrect_ending</th>\n",
       "      <th>kalimat_1</th>\n",
       "      <th>kalimat_2</th>\n",
       "      <th>kalimat_3</th>\n",
       "      <th>kalimat_4</th>\n",
       "    </tr>\n",
       "  </thead>\n",
       "  <tbody>\n",
       "    <tr>\n",
       "      <th>15</th>\n",
       "      <td>Food</td>\n",
       "      <td>Ninggal nggone, Ninggal njupuk gawean anyar in...</td>\n",
       "      <td>Ninggal seneng, dheweke entuk jamu sing enak l...</td>\n",
       "      <td>Ninggal ora gelem tuku jamu, dheweke mung tuku...</td>\n",
       "      <td>Ninggal nggone, Ninggal njupuk gawean anyar in...</td>\n",
       "      <td>Dheweke pengin njajal kuliner sing aneh-aneh</td>\n",
       "      <td>Ninggal nemokake warung sing jual jamu</td>\n",
       "      <td></td>\n",
       "    </tr>\n",
       "    <tr>\n",
       "      <th>113</th>\n",
       "      <td>Wedding</td>\n",
       "      <td>Ning dalem pendhapa, dheweke nggagas tangan la...</td>\n",
       "      <td>Dheweke ngucapke matur nuwun lan nggagas tanga...</td>\n",
       "      <td>Dheweke mung mesem lan ora ngucapke matur nuwun.</td>\n",
       "      <td>Ning dalem pendhapa, dheweke nggagas tangan la...</td>\n",
       "      <td>Ning ngarep, dheweke ketemu karo wong tuwane</td>\n",
       "      <td>Dheweke ora ngerti yen wong tuwane wis nunggu</td>\n",
       "      <td></td>\n",
       "    </tr>\n",
       "    <tr>\n",
       "      <th>286</th>\n",
       "      <td>Pregnancy and Kids</td>\n",
       "      <td>Bayu lan Ayu duwe anak lanang. Bayu lan Ayu pe...</td>\n",
       "      <td>Bayu lan Ayu lan keluarga nglakoni upacara lan...</td>\n",
       "      <td>Bayu lan Ayu ora ngucapke suwun marang Gusti.</td>\n",
       "      <td>Bayu lan Ayu duwe anak lanang</td>\n",
       "      <td>Bayu lan Ayu pengin nglakoni tradisi Jawa pask...</td>\n",
       "      <td>Bayu lan Ayu nindakake upacara \"Tumpengan\" kan...</td>\n",
       "      <td></td>\n",
       "    </tr>\n",
       "  </tbody>\n",
       "</table>\n",
       "</div>"
      ],
      "text/plain": [
       "                  topic                                            premise  \\\n",
       "15                 Food  Ninggal nggone, Ninggal njupuk gawean anyar in...   \n",
       "113             Wedding  Ning dalem pendhapa, dheweke nggagas tangan la...   \n",
       "286  Pregnancy and Kids  Bayu lan Ayu duwe anak lanang. Bayu lan Ayu pe...   \n",
       "\n",
       "                                        correct_ending  \\\n",
       "15   Ninggal seneng, dheweke entuk jamu sing enak l...   \n",
       "113  Dheweke ngucapke matur nuwun lan nggagas tanga...   \n",
       "286  Bayu lan Ayu lan keluarga nglakoni upacara lan...   \n",
       "\n",
       "                                      incorrect_ending  \\\n",
       "15   Ninggal ora gelem tuku jamu, dheweke mung tuku...   \n",
       "113   Dheweke mung mesem lan ora ngucapke matur nuwun.   \n",
       "286      Bayu lan Ayu ora ngucapke suwun marang Gusti.   \n",
       "\n",
       "                                             kalimat_1  \\\n",
       "15   Ninggal nggone, Ninggal njupuk gawean anyar in...   \n",
       "113  Ning dalem pendhapa, dheweke nggagas tangan la...   \n",
       "286                      Bayu lan Ayu duwe anak lanang   \n",
       "\n",
       "                                             kalimat_2  \\\n",
       "15        Dheweke pengin njajal kuliner sing aneh-aneh   \n",
       "113       Ning ngarep, dheweke ketemu karo wong tuwane   \n",
       "286  Bayu lan Ayu pengin nglakoni tradisi Jawa pask...   \n",
       "\n",
       "                                             kalimat_3 kalimat_4  \n",
       "15              Ninggal nemokake warung sing jual jamu            \n",
       "113      Dheweke ora ngerti yen wong tuwane wis nunggu            \n",
       "286  Bayu lan Ayu nindakake upacara \"Tumpengan\" kan...            "
      ]
     },
     "metadata": {},
     "output_type": "display_data"
    },
    {
     "data": {
      "text/plain": [
       "12"
      ]
     },
     "execution_count": 42,
     "metadata": {},
     "output_type": "execute_result"
    }
   ],
   "source": [
    "# Filter rows where any of the sentence columns have empty string values\n",
    "empty_sentences_df = df[(df['kalimat_1'] == '') | \n",
    "                        (df['kalimat_2'] == '') | \n",
    "                        (df['kalimat_3'] == '') | \n",
    "                        (df['kalimat_4'] == '')]\n",
    "\n",
    "# Display the filtered rows\n",
    "display(empty_sentences_df[:3])\n",
    "len(empty_sentences_df)"
   ]
  },
  {
   "cell_type": "code",
   "execution_count": 32,
   "metadata": {},
   "outputs": [
    {
     "data": {
      "text/plain": [
       "1064"
      ]
     },
     "execution_count": 32,
     "metadata": {},
     "output_type": "execute_result"
    }
   ],
   "source": [
    "# 4. Remove rows where any of the kalimat columns are empty strings\n",
    "df = df[(df['kalimat_1'] != '') & \n",
    "        (df['kalimat_2'] != '') & \n",
    "        (df['kalimat_3'] != '') & \n",
    "        (df['kalimat_4'] != '')]\n",
    "\n",
    "len(df)"
   ]
  },
  {
   "cell_type": "code",
   "execution_count": 33,
   "metadata": {},
   "outputs": [],
   "source": [
    "# 5. Drop the original 'premise' column as it's no longer needed\n",
    "df.drop(columns=['premise'], inplace=True)"
   ]
  },
  {
   "cell_type": "code",
   "execution_count": 34,
   "metadata": {},
   "outputs": [
    {
     "data": {
      "text/html": [
       "<div>\n",
       "<style scoped>\n",
       "    .dataframe tbody tr th:only-of-type {\n",
       "        vertical-align: middle;\n",
       "    }\n",
       "\n",
       "    .dataframe tbody tr th {\n",
       "        vertical-align: top;\n",
       "    }\n",
       "\n",
       "    .dataframe thead th {\n",
       "        text-align: right;\n",
       "    }\n",
       "</style>\n",
       "<table border=\"1\" class=\"dataframe\">\n",
       "  <thead>\n",
       "    <tr style=\"text-align: right;\">\n",
       "      <th></th>\n",
       "      <th>topic</th>\n",
       "      <th>correct_ending</th>\n",
       "      <th>incorrect_ending</th>\n",
       "      <th>kalimat_1</th>\n",
       "      <th>kalimat_2</th>\n",
       "      <th>kalimat_3</th>\n",
       "      <th>kalimat_4</th>\n",
       "    </tr>\n",
       "  </thead>\n",
       "  <tbody>\n",
       "    <tr>\n",
       "      <th>0</th>\n",
       "      <td>Food</td>\n",
       "      <td>Dheweke arep tuku oleh-oleh lan mangan ing war...</td>\n",
       "      <td>Dheweke ora entuk oleh-oleh lan mangan ing war...</td>\n",
       "      <td>Joko lan Yanto arep tuku oleh-oleh</td>\n",
       "      <td>Dheweke arep mangan ing warung</td>\n",
       "      <td>Warunge wis tutup</td>\n",
       "      <td>Dheweke ora entuk oleh-oleh</td>\n",
       "    </tr>\n",
       "    <tr>\n",
       "      <th>1</th>\n",
       "      <td>Food</td>\n",
       "      <td>Sinta tuku tempe ing pasar.</td>\n",
       "      <td>Sinta ora mangan tempe.</td>\n",
       "      <td>Sinta seneng mangan tempe</td>\n",
       "      <td>Dheweke arep tuku tempe</td>\n",
       "      <td>Tempe sing diwarunge wis habis</td>\n",
       "      <td>Sinta ora entuk tempe</td>\n",
       "    </tr>\n",
       "    <tr>\n",
       "      <th>2</th>\n",
       "      <td>Food</td>\n",
       "      <td>Dheweke tuku wedang ronde ing pasar.</td>\n",
       "      <td>Dheweke ora mangan wedang ronde.</td>\n",
       "      <td>Bayu lan Bagas arep tuku wedang ronde</td>\n",
       "      <td>Dheweke arep mangan ing warung</td>\n",
       "      <td>Warunge wis tutup</td>\n",
       "      <td>Dheweke ora entuk wedang ronde</td>\n",
       "    </tr>\n",
       "  </tbody>\n",
       "</table>\n",
       "</div>"
      ],
      "text/plain": [
       "  topic                                     correct_ending  \\\n",
       "0  Food  Dheweke arep tuku oleh-oleh lan mangan ing war...   \n",
       "1  Food                        Sinta tuku tempe ing pasar.   \n",
       "2  Food               Dheweke tuku wedang ronde ing pasar.   \n",
       "\n",
       "                                    incorrect_ending  \\\n",
       "0  Dheweke ora entuk oleh-oleh lan mangan ing war...   \n",
       "1                            Sinta ora mangan tempe.   \n",
       "2                   Dheweke ora mangan wedang ronde.   \n",
       "\n",
       "                               kalimat_1                       kalimat_2  \\\n",
       "0     Joko lan Yanto arep tuku oleh-oleh  Dheweke arep mangan ing warung   \n",
       "1              Sinta seneng mangan tempe         Dheweke arep tuku tempe   \n",
       "2  Bayu lan Bagas arep tuku wedang ronde  Dheweke arep mangan ing warung   \n",
       "\n",
       "                        kalimat_3                       kalimat_4  \n",
       "0               Warunge wis tutup     Dheweke ora entuk oleh-oleh  \n",
       "1  Tempe sing diwarunge wis habis           Sinta ora entuk tempe  \n",
       "2               Warunge wis tutup  Dheweke ora entuk wedang ronde  "
      ]
     },
     "execution_count": 34,
     "metadata": {},
     "output_type": "execute_result"
    }
   ],
   "source": [
    "df.head(3)"
   ]
  },
  {
   "cell_type": "code",
   "execution_count": 35,
   "metadata": {},
   "outputs": [],
   "source": [
    "df.to_csv('cleaned_train_cohere_rplus_jv.csv', index=False, columns=['topic', 'kalimat_1', 'kalimat_2', 'kalimat_3', 'kalimat_4', 'correct_ending', 'incorrect_ending'])"
   ]
  },
  {
   "cell_type": "code",
   "execution_count": null,
   "metadata": {},
   "outputs": [],
   "source": []
  }
 ],
 "metadata": {
  "kernelspec": {
   "display_name": "Python 3",
   "language": "python",
   "name": "python3"
  },
  "language_info": {
   "codemirror_mode": {
    "name": "ipython",
    "version": 3
   },
   "file_extension": ".py",
   "mimetype": "text/x-python",
   "name": "python",
   "nbconvert_exporter": "python",
   "pygments_lexer": "ipython3",
   "version": "3.9.6"
  }
 },
 "nbformat": 4,
 "nbformat_minor": 2
}
